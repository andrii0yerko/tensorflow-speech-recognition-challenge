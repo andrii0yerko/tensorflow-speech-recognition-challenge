{
 "cells": [
  {
   "cell_type": "markdown",
   "id": "97ecd2c7",
   "metadata": {
    "papermill": {
     "duration": 0.036291,
     "end_time": "2021-09-10T11:40:23.851900",
     "exception": false,
     "start_time": "2021-09-10T11:40:23.815609",
     "status": "completed"
    },
    "tags": []
   },
   "source": [
    "# Tensorflow Speech Recognition Challenge\n",
    "\n",
    "\n",
    "Formulation of the problem:\n",
    "\n",
    "We are given a dataset of 64721 <=1 sec wav files, that should be classified into one of [yes, no, up, down, left, right, on, off, stop, go, silence, unknown]/. Most of the files are \"unknown\" in terms of these labels\n",
    "I think that the dataset of this audio length and the number of classes to predict can be treated as really simple for modern speech recognition. Probably SOTA networks can classify it almost perfectly. But let's assume we are solving a real problem: a simple set of words can be used for voice control of some application, and additionally the person who gave me this task, wrote that solution on pure TensorFlow is preferable. It means that created solution probably will be ported into another platform with TensorFlow support. Looks like our speech recognition system will be run locally in a browser or maybe a mobile application, so let's include computational effectiveness and prediction speed in our list of priorities.\n",
    "\n",
    "Additionally, I would say that this is my first experience in speech recognition and I do not have a background in signal processing, so this task is especially interesting for me.\n",
    "\n",
    "<h1>Table of Contents<span class=\"tocSkip\"></span></h1>\n",
    "<div class=\"toc\">\n",
    "  <ul class=\"toc-item\">\n",
    "    <li><span><a href=\"#Tensorflow-Speech-Recognition-Challenge\" data-toc-modified-id=\"Tensorflow-Speech-Recognition-Challenge-1\"><span class=\"toc-item-num\">1&nbsp;&nbsp;</span>Tensorflow Speech Recognition Challenge</a></span></li>\n",
    "    <li>\n",
    "      <span><a href=\"#Preparation\" data-toc-modified-id=\"Preparation-2\"><span class=\"toc-item-num\">2&nbsp;&nbsp;</span>Preparation</a></span>\n",
    "      <ul class=\"toc-item\">\n",
    "        <li>\n",
    "          <span><a href=\"#Metadata-exploration\" data-toc-modified-id=\"Metadata-exploration-2.1\"><span class=\"toc-item-num\">2.1&nbsp;&nbsp;</span>Metadata exploration</a></span>\n",
    "          <ul class=\"toc-item\">\n",
    "            <li><span><a href=\"#Bitrate-and-length\" data-toc-modified-id=\"Bitrate-and-length-2.1.1\"><span class=\"toc-item-num\">2.1.1&nbsp;&nbsp;</span>Bitrate and length</a></span></li>\n",
    "            <li><span><a href=\"#Validation-and-training-lists\" data-toc-modified-id=\"Validation-and-training-lists-2.1.2\"><span class=\"toc-item-num\">2.1.2&nbsp;&nbsp;</span>Validation and training lists</a></span></li>\n",
    "            <li><span><a href=\"#Classes-balance\" data-toc-modified-id=\"Classes-balance-2.1.3\"><span class=\"toc-item-num\">2.1.3&nbsp;&nbsp;</span>Classes balance</a></span></li>\n",
    "          </ul>\n",
    "        </li>\n",
    "        <li><span><a href=\"#Data-preparation\" data-toc-modified-id=\"Data-preparation-2.2\"><span class=\"toc-item-num\">2.2&nbsp;&nbsp;</span>Data preparation</a></span></li>\n",
    "      </ul>\n",
    "    </li>\n",
    "    <li>\n",
    "      <span><a href=\"#Modeling\" data-toc-modified-id=\"Modeling-3\"><span class=\"toc-item-num\">3&nbsp;&nbsp;</span>Modeling</a></span>\n",
    "      <ul class=\"toc-item\">\n",
    "        <li><span><a href=\"#Approaches-overview:\" data-toc-modified-id=\"Approaches-overview:-3.1\"><span class=\"toc-item-num\">3.1&nbsp;&nbsp;</span>Approaches overview</a></span></li>\n",
    "        <li><span><a href=\"#Preprocessing-Pipeline\" data-toc-modified-id=\"Preprocessing-Pipeline-3.2\"><span class=\"toc-item-num\">3.2&nbsp;&nbsp;</span>Preprocessing Pipeline</a></span></li>\n",
    "        <li><span><a href=\"#Nearest-neighbors-by-spectrogram\" data-toc-modified-id=\"Nearest-neighbors-by-spectrogram-3.3\"><span class=\"toc-item-num\">3.3&nbsp;&nbsp;</span>Nearest neighbors by spectrogram</a></span></li>\n",
    "        <li><span><a href=\"#CNN-from-scratch-(Keras)\" data-toc-modified-id=\"CNN-from-scratch-(Keras)-3.4\"><span class=\"toc-item-num\">3.4&nbsp;&nbsp;</span>CNN from scratch (Keras)</a></span></li>\n",
    "        <li><span><a href=\"#Little-overview-of-pretrained-model-approach---DeepSpeech2\" data-toc-modified-id=\"Little-overview-of-pretrained-model-approach---DeepSpeech2-3.5\"><span class=\"toc-item-num\">3.5&nbsp;&nbsp;</span>Little overview of pretrained model approach - DeepSpeech2</a></span></li>\n",
    "        <li><span><a href=\"#Conclusions\" data-toc-modified-id=\"Conclusions-3.6\"><span class=\"toc-item-num\">3.6&nbsp;&nbsp;</span>Conclusions</a></span></li>\n",
    "      </ul>\n",
    "    </li>\n",
    "  </ul>\n",
    "</div>"
   ]
  },
  {
   "cell_type": "markdown",
   "id": "f6dc8ffa",
   "metadata": {
    "papermill": {
     "duration": 0.034517,
     "end_time": "2021-09-10T11:40:23.921618",
     "exception": false,
     "start_time": "2021-09-10T11:40:23.887101",
     "status": "completed"
    },
    "tags": []
   },
   "source": [
    "# Preparation\n",
    "\n",
    "In this section I'm performing routine work with new data such as checking classes balance, defining train-val-test split and creating new silence and reducing unknown labels. Finally, all the data was moved into new folders, which is easy to load into any machine learning framework."
   ]
  },
  {
   "cell_type": "code",
   "execution_count": 1,
   "id": "268dab4c",
   "metadata": {
    "execution": {
     "iopub.execute_input": "2021-09-10T11:40:24.005614Z",
     "iopub.status.busy": "2021-09-10T11:40:24.005060Z",
     "iopub.status.idle": "2021-09-10T11:42:21.106792Z",
     "shell.execute_reply": "2021-09-10T11:42:21.107258Z",
     "shell.execute_reply.started": "2021-09-10T10:03:04.727661Z"
    },
    "papermill": {
     "duration": 117.150186,
     "end_time": "2021-09-10T11:42:21.107572",
     "exception": false,
     "start_time": "2021-09-10T11:40:23.957386",
     "status": "completed"
    },
    "tags": []
   },
   "outputs": [],
   "source": [
    "%%capture\n",
    "# unzip data\n",
    "!apt install --assume-yes p7zip-full\n",
    "!mkdir /kaggle/temp; cd /kaggle/temp && 7z x /kaggle/input/tensorflow-speech-recognition-challenge/train.7z"
   ]
  },
  {
   "cell_type": "markdown",
   "id": "7cabeceb",
   "metadata": {
    "papermill": {
     "duration": 0.035026,
     "end_time": "2021-09-10T11:42:21.178381",
     "exception": false,
     "start_time": "2021-09-10T11:42:21.143355",
     "status": "completed"
    },
    "tags": []
   },
   "source": [
    "## Metadata exploration"
   ]
  },
  {
   "cell_type": "code",
   "execution_count": 2,
   "id": "e3086eaf",
   "metadata": {
    "_cell_guid": "b1076dfc-b9ad-4769-8c92-a6c4dae69d19",
    "_kg_hide-output": true,
    "_uuid": "8f2839f25d086af736a60e9eeb907d3b93b6e0e5",
    "execution": {
     "iopub.execute_input": "2021-09-10T11:42:21.254021Z",
     "iopub.status.busy": "2021-09-10T11:42:21.253493Z",
     "iopub.status.idle": "2021-09-10T11:42:21.510505Z",
     "shell.execute_reply": "2021-09-10T11:42:21.511483Z",
     "shell.execute_reply.started": "2021-09-10T10:05:03.984110Z"
    },
    "papermill": {
     "duration": 0.297464,
     "end_time": "2021-09-10T11:42:21.511719",
     "exception": false,
     "start_time": "2021-09-10T11:42:21.214255",
     "status": "completed"
    },
    "tags": []
   },
   "outputs": [],
   "source": [
    "import numpy as np\n",
    "import pandas as pd\n",
    "from scipy.io import wavfile\n",
    "import IPython.display as ipd\n",
    "import os"
   ]
  },
  {
   "cell_type": "code",
   "execution_count": 3,
   "id": "81410657",
   "metadata": {
    "execution": {
     "iopub.execute_input": "2021-09-10T11:42:21.647804Z",
     "iopub.status.busy": "2021-09-10T11:42:21.647024Z",
     "iopub.status.idle": "2021-09-10T11:42:21.650300Z",
     "shell.execute_reply": "2021-09-10T11:42:21.650910Z",
     "shell.execute_reply.started": "2021-09-10T10:05:03.994937Z"
    },
    "papermill": {
     "duration": 0.077999,
     "end_time": "2021-09-10T11:42:21.651091",
     "exception": false,
     "start_time": "2021-09-10T11:42:21.573092",
     "status": "completed"
    },
    "tags": []
   },
   "outputs": [
    {
     "name": "stdout",
     "output_type": "stream",
     "text": [
      "['LICENSE', 'README.md', 'validation_list.txt', 'audio', 'testing_list.txt']\n"
     ]
    }
   ],
   "source": [
    "DATA_PATH = '/kaggle/temp/train'\n",
    "print(os.listdir(DATA_PATH))"
   ]
  },
  {
   "cell_type": "code",
   "execution_count": 4,
   "id": "cfb3cae8",
   "metadata": {
    "execution": {
     "iopub.execute_input": "2021-09-10T11:42:21.782769Z",
     "iopub.status.busy": "2021-09-10T11:42:21.781867Z",
     "iopub.status.idle": "2021-09-10T11:42:26.924455Z",
     "shell.execute_reply": "2021-09-10T11:42:26.924011Z",
     "shell.execute_reply.started": "2021-09-10T10:05:04.008439Z"
    },
    "papermill": {
     "duration": 5.213652,
     "end_time": "2021-09-10T11:42:26.924581",
     "exception": false,
     "start_time": "2021-09-10T11:42:21.710929",
     "status": "completed"
    },
    "tags": []
   },
   "outputs": [
    {
     "name": "stdout",
     "output_type": "stream",
     "text": [
      "Number of labels: 30\n",
      "(64721, 2)\n"
     ]
    },
    {
     "data": {
      "text/html": [
       "<div>\n",
       "<style scoped>\n",
       "    .dataframe tbody tr th:only-of-type {\n",
       "        vertical-align: middle;\n",
       "    }\n",
       "\n",
       "    .dataframe tbody tr th {\n",
       "        vertical-align: top;\n",
       "    }\n",
       "\n",
       "    .dataframe thead th {\n",
       "        text-align: right;\n",
       "    }\n",
       "</style>\n",
       "<table border=\"1\" class=\"dataframe\">\n",
       "  <thead>\n",
       "    <tr style=\"text-align: right;\">\n",
       "      <th></th>\n",
       "      <th>folder</th>\n",
       "      <th>filepath</th>\n",
       "      <th>file</th>\n",
       "      <th>speaker</th>\n",
       "      <th>utterance</th>\n",
       "      <th>label</th>\n",
       "      <th>bitrate</th>\n",
       "      <th>length</th>\n",
       "    </tr>\n",
       "  </thead>\n",
       "  <tbody>\n",
       "    <tr>\n",
       "      <th>19055</th>\n",
       "      <td>happy</td>\n",
       "      <td>happy/34881b10_nohash_0.wav</td>\n",
       "      <td>34881b10_nohash_0.wav</td>\n",
       "      <td>34881b10</td>\n",
       "      <td>0.wav</td>\n",
       "      <td>unknown</td>\n",
       "      <td>16000</td>\n",
       "      <td>16000</td>\n",
       "    </tr>\n",
       "    <tr>\n",
       "      <th>55420</th>\n",
       "      <td>two</td>\n",
       "      <td>two/d1214f15_nohash_0.wav</td>\n",
       "      <td>d1214f15_nohash_0.wav</td>\n",
       "      <td>d1214f15</td>\n",
       "      <td>0.wav</td>\n",
       "      <td>unknown</td>\n",
       "      <td>16000</td>\n",
       "      <td>16000</td>\n",
       "    </tr>\n",
       "    <tr>\n",
       "      <th>40013</th>\n",
       "      <td>right</td>\n",
       "      <td>right/cb5d2c6e_nohash_2.wav</td>\n",
       "      <td>cb5d2c6e_nohash_2.wav</td>\n",
       "      <td>cb5d2c6e</td>\n",
       "      <td>2.wav</td>\n",
       "      <td>right</td>\n",
       "      <td>16000</td>\n",
       "      <td>16000</td>\n",
       "    </tr>\n",
       "    <tr>\n",
       "      <th>42490</th>\n",
       "      <td>seven</td>\n",
       "      <td>seven/d0faf7e4_nohash_2.wav</td>\n",
       "      <td>d0faf7e4_nohash_2.wav</td>\n",
       "      <td>d0faf7e4</td>\n",
       "      <td>2.wav</td>\n",
       "      <td>unknown</td>\n",
       "      <td>16000</td>\n",
       "      <td>16000</td>\n",
       "    </tr>\n",
       "    <tr>\n",
       "      <th>17282</th>\n",
       "      <td>go</td>\n",
       "      <td>go/6727b579_nohash_3.wav</td>\n",
       "      <td>6727b579_nohash_3.wav</td>\n",
       "      <td>6727b579</td>\n",
       "      <td>3.wav</td>\n",
       "      <td>go</td>\n",
       "      <td>16000</td>\n",
       "      <td>16000</td>\n",
       "    </tr>\n",
       "  </tbody>\n",
       "</table>\n",
       "</div>"
      ],
      "text/plain": [
       "      folder                     filepath                   file   speaker  \\\n",
       "19055  happy  happy/34881b10_nohash_0.wav  34881b10_nohash_0.wav  34881b10   \n",
       "55420    two    two/d1214f15_nohash_0.wav  d1214f15_nohash_0.wav  d1214f15   \n",
       "40013  right  right/cb5d2c6e_nohash_2.wav  cb5d2c6e_nohash_2.wav  cb5d2c6e   \n",
       "42490  seven  seven/d0faf7e4_nohash_2.wav  d0faf7e4_nohash_2.wav  d0faf7e4   \n",
       "17282     go     go/6727b579_nohash_3.wav  6727b579_nohash_3.wav  6727b579   \n",
       "\n",
       "      utterance    label  bitrate  length  \n",
       "19055     0.wav  unknown    16000   16000  \n",
       "55420     0.wav  unknown    16000   16000  \n",
       "40013     2.wav    right    16000   16000  \n",
       "42490     2.wav  unknown    16000   16000  \n",
       "17282     3.wav       go    16000   16000  "
      ]
     },
     "execution_count": 4,
     "metadata": {},
     "output_type": "execute_result"
    }
   ],
   "source": [
    "audio_path = os.path.join(DATA_PATH, 'audio')\n",
    "\n",
    "data_labels = os.listdir(audio_path)\n",
    "data_labels.remove('_background_noise_')\n",
    "print(f'Number of labels: {len(data_labels)}')\n",
    "\n",
    "LABELS = ['yes', 'no', 'up', 'down', 'left', 'right',\n",
    "          'on', 'off', 'stop', 'go', 'silence', 'unknown']\n",
    "\n",
    "data_file_labels = dict()\n",
    "for label in data_labels:\n",
    "    files = os.listdir(audio_path + '/' + label)\n",
    "    for f in files:\n",
    "        data_file_labels[label + '/' + f] = label\n",
    "\n",
    "meta_df = pd.DataFrame.from_dict(data_file_labels, orient='index')\n",
    "meta_df = meta_df.reset_index(drop=False)\n",
    "meta_df = meta_df.rename(columns={'index': 'filepath', 0: 'folder'})\n",
    "meta_df = meta_df[['folder', 'filepath']]\n",
    "meta_df = meta_df.sort_values('filepath')\n",
    "meta_df = meta_df.reset_index(drop=True)\n",
    "print(meta_df.shape)\n",
    "\n",
    "def remove_label_from_file(label, fname):\n",
    "    return fname[len(label)+1:]\n",
    "\n",
    "meta_df['file'] = meta_df.apply(lambda x: remove_label_from_file(*x), axis=1)\n",
    "meta_df[['speaker', 'utterance']] = meta_df['file'].str.split('_', expand=True)[[0, 2]]\n",
    "meta_df['label'] = meta_df['folder'].apply(lambda x: x if x in LABELS else 'unknown')\n",
    "\n",
    "def get_wv_metadata(filename):\n",
    "    bitrate, data = wavfile.read(filename)\n",
    "    return bitrate, len(data)\n",
    "\n",
    "paths = meta_df['filepath'].apply(lambda x: os.path.join(audio_path, x))\n",
    "meta_df[['bitrate', 'length']] = paths.apply(get_wv_metadata).to_list()\n",
    "meta_df.sample(5)"
   ]
  },
  {
   "cell_type": "markdown",
   "id": "b7f207ae",
   "metadata": {
    "papermill": {
     "duration": 0.03729,
     "end_time": "2021-09-10T11:42:26.998885",
     "exception": false,
     "start_time": "2021-09-10T11:42:26.961595",
     "status": "completed"
    },
    "tags": []
   },
   "source": [
    "#### Bitrate and length"
   ]
  },
  {
   "cell_type": "code",
   "execution_count": 5,
   "id": "34cc0f70",
   "metadata": {
    "execution": {
     "iopub.execute_input": "2021-09-10T11:42:27.079945Z",
     "iopub.status.busy": "2021-09-10T11:42:27.079409Z",
     "iopub.status.idle": "2021-09-10T11:42:27.097547Z",
     "shell.execute_reply": "2021-09-10T11:42:27.096784Z",
     "shell.execute_reply.started": "2021-09-10T10:05:08.929694Z"
    },
    "papermill": {
     "duration": 0.061832,
     "end_time": "2021-09-10T11:42:27.097668",
     "exception": false,
     "start_time": "2021-09-10T11:42:27.035836",
     "status": "completed"
    },
    "tags": []
   },
   "outputs": [
    {
     "data": {
      "text/html": [
       "<div>\n",
       "<style scoped>\n",
       "    .dataframe tbody tr th:only-of-type {\n",
       "        vertical-align: middle;\n",
       "    }\n",
       "\n",
       "    .dataframe tbody tr th {\n",
       "        vertical-align: top;\n",
       "    }\n",
       "\n",
       "    .dataframe thead th {\n",
       "        text-align: right;\n",
       "    }\n",
       "</style>\n",
       "<table border=\"1\" class=\"dataframe\">\n",
       "  <thead>\n",
       "    <tr style=\"text-align: right;\">\n",
       "      <th></th>\n",
       "      <th>bitrate</th>\n",
       "      <th>length</th>\n",
       "    </tr>\n",
       "  </thead>\n",
       "  <tbody>\n",
       "    <tr>\n",
       "      <th>count</th>\n",
       "      <td>64721.0</td>\n",
       "      <td>64721.000000</td>\n",
       "    </tr>\n",
       "    <tr>\n",
       "      <th>mean</th>\n",
       "      <td>16000.0</td>\n",
       "      <td>15753.317687</td>\n",
       "    </tr>\n",
       "    <tr>\n",
       "      <th>std</th>\n",
       "      <td>0.0</td>\n",
       "      <td>951.750042</td>\n",
       "    </tr>\n",
       "    <tr>\n",
       "      <th>min</th>\n",
       "      <td>16000.0</td>\n",
       "      <td>5945.000000</td>\n",
       "    </tr>\n",
       "    <tr>\n",
       "      <th>25%</th>\n",
       "      <td>16000.0</td>\n",
       "      <td>16000.000000</td>\n",
       "    </tr>\n",
       "    <tr>\n",
       "      <th>50%</th>\n",
       "      <td>16000.0</td>\n",
       "      <td>16000.000000</td>\n",
       "    </tr>\n",
       "    <tr>\n",
       "      <th>75%</th>\n",
       "      <td>16000.0</td>\n",
       "      <td>16000.000000</td>\n",
       "    </tr>\n",
       "    <tr>\n",
       "      <th>max</th>\n",
       "      <td>16000.0</td>\n",
       "      <td>16000.000000</td>\n",
       "    </tr>\n",
       "  </tbody>\n",
       "</table>\n",
       "</div>"
      ],
      "text/plain": [
       "       bitrate        length\n",
       "count  64721.0  64721.000000\n",
       "mean   16000.0  15753.317687\n",
       "std        0.0    951.750042\n",
       "min    16000.0   5945.000000\n",
       "25%    16000.0  16000.000000\n",
       "50%    16000.0  16000.000000\n",
       "75%    16000.0  16000.000000\n",
       "max    16000.0  16000.000000"
      ]
     },
     "execution_count": 5,
     "metadata": {},
     "output_type": "execute_result"
    }
   ],
   "source": [
    "meta_df.describe(include=np.number)"
   ]
  },
  {
   "cell_type": "markdown",
   "id": "67ba996a",
   "metadata": {
    "papermill": {
     "duration": 0.036842,
     "end_time": "2021-09-10T11:42:27.175481",
     "exception": false,
     "start_time": "2021-09-10T11:42:27.138639",
     "status": "completed"
    },
    "tags": []
   },
   "source": [
    "We have the same bitrate, but length sometimes is less than 1 sec. I'm going to fix that during preprocessing stage."
   ]
  },
  {
   "cell_type": "markdown",
   "id": "2ebc9882",
   "metadata": {
    "papermill": {
     "duration": 0.036694,
     "end_time": "2021-09-10T11:42:27.249340",
     "exception": false,
     "start_time": "2021-09-10T11:42:27.212646",
     "status": "completed"
    },
    "tags": []
   },
   "source": [
    "#### Validation and training lists\n",
    "We are already given with lists of validation and testing samples. Let's check if they are constructed in an appropriate way, with respect to speakers. It is important because our model can overfit to speaker's voice or background sounds, and we should be able to catch sight of it."
   ]
  },
  {
   "cell_type": "code",
   "execution_count": 6,
   "id": "513f05c2",
   "metadata": {
    "execution": {
     "iopub.execute_input": "2021-09-10T11:42:27.330276Z",
     "iopub.status.busy": "2021-09-10T11:42:27.329707Z",
     "iopub.status.idle": "2021-09-10T11:42:27.373569Z",
     "shell.execute_reply": "2021-09-10T11:42:27.373011Z",
     "shell.execute_reply.started": "2021-09-10T10:05:08.973358Z"
    },
    "papermill": {
     "duration": 0.087319,
     "end_time": "2021-09-10T11:42:27.373687",
     "exception": false,
     "start_time": "2021-09-10T11:42:27.286368",
     "status": "completed"
    },
    "tags": []
   },
   "outputs": [],
   "source": [
    "validation_list = pd.read_csv(os.path.join(DATA_PATH, 'validation_list.txt'), header=None, squeeze=True).to_list()\n",
    "testing_list = pd.read_csv(os.path.join(DATA_PATH, 'testing_list.txt'), header=None, squeeze=True).to_list()\n",
    "\n",
    "meta_df['validation'] = meta_df['filepath'].isin(validation_list).astype('int')\n",
    "meta_df['test'] = meta_df['filepath'].isin(testing_list).astype('int')\n",
    "\n",
    "train_idx = (meta_df['validation']==0) & (meta_df['test']==0)\n",
    "val_idx = (meta_df['validation']==1)\n",
    "test_idx = (meta_df['test']==1)"
   ]
  },
  {
   "cell_type": "code",
   "execution_count": 7,
   "id": "55052b41",
   "metadata": {
    "execution": {
     "iopub.execute_input": "2021-09-10T11:42:27.452518Z",
     "iopub.status.busy": "2021-09-10T11:42:27.451721Z",
     "iopub.status.idle": "2021-09-10T11:42:27.460693Z",
     "shell.execute_reply": "2021-09-10T11:42:27.460300Z",
     "shell.execute_reply.started": "2021-09-10T10:05:09.130317Z"
    },
    "papermill": {
     "duration": 0.050088,
     "end_time": "2021-09-10T11:42:27.460802",
     "exception": false,
     "start_time": "2021-09-10T11:42:27.410714",
     "status": "completed"
    },
    "tags": []
   },
   "outputs": [
    {
     "data": {
      "text/html": [
       "<div>\n",
       "<style scoped>\n",
       "    .dataframe tbody tr th:only-of-type {\n",
       "        vertical-align: middle;\n",
       "    }\n",
       "\n",
       "    .dataframe tbody tr th {\n",
       "        vertical-align: top;\n",
       "    }\n",
       "\n",
       "    .dataframe thead th {\n",
       "        text-align: right;\n",
       "    }\n",
       "</style>\n",
       "<table border=\"1\" class=\"dataframe\">\n",
       "  <thead>\n",
       "    <tr style=\"text-align: right;\">\n",
       "      <th></th>\n",
       "      <th>folder</th>\n",
       "      <th>filepath</th>\n",
       "      <th>file</th>\n",
       "      <th>speaker</th>\n",
       "      <th>utterance</th>\n",
       "      <th>label</th>\n",
       "      <th>bitrate</th>\n",
       "      <th>length</th>\n",
       "      <th>validation</th>\n",
       "      <th>test</th>\n",
       "    </tr>\n",
       "  </thead>\n",
       "  <tbody>\n",
       "  </tbody>\n",
       "</table>\n",
       "</div>"
      ],
      "text/plain": [
       "Empty DataFrame\n",
       "Columns: [folder, filepath, file, speaker, utterance, label, bitrate, length, validation, test]\n",
       "Index: []"
      ]
     },
     "execution_count": 7,
     "metadata": {},
     "output_type": "execute_result"
    }
   ],
   "source": [
    "meta_df[val_idx & test_idx]"
   ]
  },
  {
   "cell_type": "code",
   "execution_count": 8,
   "id": "28870a16",
   "metadata": {
    "execution": {
     "iopub.execute_input": "2021-09-10T11:42:27.542785Z",
     "iopub.status.busy": "2021-09-10T11:42:27.541721Z",
     "iopub.status.idle": "2021-09-10T11:42:27.601218Z",
     "shell.execute_reply": "2021-09-10T11:42:27.601623Z",
     "shell.execute_reply.started": "2021-09-10T10:05:09.147706Z"
    },
    "papermill": {
     "duration": 0.10352,
     "end_time": "2021-09-10T11:42:27.601764",
     "exception": false,
     "start_time": "2021-09-10T11:42:27.498244",
     "status": "completed"
    },
    "tags": []
   },
   "outputs": [
    {
     "data": {
      "text/plain": [
       "(0, 0, 0)"
      ]
     },
     "execution_count": 8,
     "metadata": {},
     "output_type": "execute_result"
    }
   ],
   "source": [
    "train_speakers = set(meta_df.loc[train_idx, ['folder', 'speaker']].sum(axis=1))\n",
    "val_speakers = set(meta_df.loc[val_idx, ['folder', 'speaker']].sum(axis=1))\n",
    "test_speakers = set(meta_df.loc[test_idx, ['folder', 'speaker']].sum(axis=1))\n",
    "\n",
    "def set_intersect(left, right):\n",
    "    '''A∩B = A\\(A\\B)'''\n",
    "    return left - (left - right)\n",
    "\n",
    "len(set_intersect(train_speakers, val_speakers)), len(set_intersect(train_speakers, test_speakers)), len(set_intersect(val_speakers, test_speakers))"
   ]
  },
  {
   "cell_type": "markdown",
   "id": "7c775c67",
   "metadata": {
    "papermill": {
     "duration": 0.037681,
     "end_time": "2021-09-10T11:42:27.677072",
     "exception": false,
     "start_time": "2021-09-10T11:42:27.639391",
     "status": "completed"
    },
    "tags": []
   },
   "source": [
    "Great, speakers sets do not intersect, that means we can use this predefined split for model validation."
   ]
  },
  {
   "cell_type": "markdown",
   "id": "694110ad",
   "metadata": {
    "papermill": {
     "duration": 0.037587,
     "end_time": "2021-09-10T11:42:27.752480",
     "exception": false,
     "start_time": "2021-09-10T11:42:27.714893",
     "status": "completed"
    },
    "tags": []
   },
   "source": [
    "#### Classes balance"
   ]
  },
  {
   "cell_type": "code",
   "execution_count": 9,
   "id": "dac58ff9",
   "metadata": {
    "execution": {
     "iopub.execute_input": "2021-09-10T11:42:27.841874Z",
     "iopub.status.busy": "2021-09-10T11:42:27.840968Z",
     "iopub.status.idle": "2021-09-10T11:42:27.870471Z",
     "shell.execute_reply": "2021-09-10T11:42:27.870044Z",
     "shell.execute_reply.started": "2021-09-10T10:05:09.218250Z"
    },
    "papermill": {
     "duration": 0.079248,
     "end_time": "2021-09-10T11:42:27.870589",
     "exception": false,
     "start_time": "2021-09-10T11:42:27.791341",
     "status": "completed"
    },
    "tags": []
   },
   "outputs": [
    {
     "data": {
      "text/html": [
       "<div>\n",
       "<style scoped>\n",
       "    .dataframe tbody tr th:only-of-type {\n",
       "        vertical-align: middle;\n",
       "    }\n",
       "\n",
       "    .dataframe tbody tr th {\n",
       "        vertical-align: top;\n",
       "    }\n",
       "\n",
       "    .dataframe thead th {\n",
       "        text-align: right;\n",
       "    }\n",
       "</style>\n",
       "<table border=\"1\" class=\"dataframe\">\n",
       "  <thead>\n",
       "    <tr style=\"text-align: right;\">\n",
       "      <th></th>\n",
       "      <th>unknown</th>\n",
       "      <th>stop</th>\n",
       "      <th>on</th>\n",
       "      <th>go</th>\n",
       "      <th>yes</th>\n",
       "      <th>no</th>\n",
       "      <th>right</th>\n",
       "      <th>up</th>\n",
       "      <th>down</th>\n",
       "      <th>left</th>\n",
       "      <th>off</th>\n",
       "    </tr>\n",
       "  </thead>\n",
       "  <tbody>\n",
       "    <tr>\n",
       "      <th>train</th>\n",
       "      <td>32550</td>\n",
       "      <td>1885</td>\n",
       "      <td>1864</td>\n",
       "      <td>1861</td>\n",
       "      <td>1860</td>\n",
       "      <td>1853</td>\n",
       "      <td>1852</td>\n",
       "      <td>1843</td>\n",
       "      <td>1842</td>\n",
       "      <td>1839</td>\n",
       "      <td>1839</td>\n",
       "    </tr>\n",
       "    <tr>\n",
       "      <th>validation</th>\n",
       "      <td>4221</td>\n",
       "      <td>246</td>\n",
       "      <td>257</td>\n",
       "      <td>260</td>\n",
       "      <td>261</td>\n",
       "      <td>270</td>\n",
       "      <td>256</td>\n",
       "      <td>260</td>\n",
       "      <td>264</td>\n",
       "      <td>247</td>\n",
       "      <td>256</td>\n",
       "    </tr>\n",
       "    <tr>\n",
       "      <th>test</th>\n",
       "      <td>4268</td>\n",
       "      <td>249</td>\n",
       "      <td>246</td>\n",
       "      <td>251</td>\n",
       "      <td>256</td>\n",
       "      <td>252</td>\n",
       "      <td>259</td>\n",
       "      <td>272</td>\n",
       "      <td>253</td>\n",
       "      <td>267</td>\n",
       "      <td>262</td>\n",
       "    </tr>\n",
       "  </tbody>\n",
       "</table>\n",
       "</div>"
      ],
      "text/plain": [
       "            unknown  stop    on    go   yes    no  right    up  down  left  \\\n",
       "train         32550  1885  1864  1861  1860  1853   1852  1843  1842  1839   \n",
       "validation     4221   246   257   260   261   270    256   260   264   247   \n",
       "test           4268   249   246   251   256   252    259   272   253   267   \n",
       "\n",
       "             off  \n",
       "train       1839  \n",
       "validation   256  \n",
       "test         262  "
      ]
     },
     "execution_count": 9,
     "metadata": {},
     "output_type": "execute_result"
    }
   ],
   "source": [
    "class_counts = pd.DataFrame([\n",
    "    meta_df.loc[train_idx, 'label'].value_counts(),\n",
    "    meta_df.loc[val_idx, 'label'].value_counts(),\n",
    "    meta_df.loc[test_idx, 'label'].value_counts()\n",
    "], index=['train', 'validation', 'test'])\n",
    "class_counts"
   ]
  },
  {
   "cell_type": "code",
   "execution_count": 10,
   "id": "b32a7468",
   "metadata": {
    "execution": {
     "iopub.execute_input": "2021-09-10T11:42:27.953015Z",
     "iopub.status.busy": "2021-09-10T11:42:27.952155Z",
     "iopub.status.idle": "2021-09-10T11:42:27.956540Z",
     "shell.execute_reply": "2021-09-10T11:42:27.956122Z",
     "shell.execute_reply.started": "2021-09-10T10:05:09.252671Z"
    },
    "papermill": {
     "duration": 0.047896,
     "end_time": "2021-09-10T11:42:27.956650",
     "exception": false,
     "start_time": "2021-09-10T11:42:27.908754",
     "status": "completed"
    },
    "tags": []
   },
   "outputs": [
    {
     "data": {
      "text/plain": [
       "train         51088\n",
       "validation     6798\n",
       "test           6835\n",
       "dtype: int64"
      ]
     },
     "execution_count": 10,
     "metadata": {},
     "output_type": "execute_result"
    }
   ],
   "source": [
    "class_counts.sum(axis=1)"
   ]
  },
  {
   "cell_type": "code",
   "execution_count": 11,
   "id": "558ec010",
   "metadata": {
    "execution": {
     "iopub.execute_input": "2021-09-10T11:42:28.040117Z",
     "iopub.status.busy": "2021-09-10T11:42:28.039594Z",
     "iopub.status.idle": "2021-09-10T11:42:28.045497Z",
     "shell.execute_reply": "2021-09-10T11:42:28.045059Z",
     "shell.execute_reply.started": "2021-09-10T10:05:09.261396Z"
    },
    "papermill": {
     "duration": 0.050793,
     "end_time": "2021-09-10T11:42:28.045605",
     "exception": false,
     "start_time": "2021-09-10T11:42:27.994812",
     "status": "completed"
    },
    "tags": []
   },
   "outputs": [
    {
     "data": {
      "text/plain": [
       "train         1854\n",
       "validation     258\n",
       "test           257\n",
       "dtype: int64"
      ]
     },
     "execution_count": 11,
     "metadata": {},
     "output_type": "execute_result"
    }
   ],
   "source": [
    "mean_class_samples = class_counts.drop(columns='unknown').mean(axis=1).round().astype('int')\n",
    "\n",
    "mean_class_samples"
   ]
  },
  {
   "cell_type": "markdown",
   "id": "c410c3f6",
   "metadata": {
    "papermill": {
     "duration": 0.047533,
     "end_time": "2021-09-10T11:42:28.132479",
     "exception": false,
     "start_time": "2021-09-10T11:42:28.084946",
     "status": "completed"
    },
    "tags": []
   },
   "source": [
    "Classes have a similar number of samples, except 'unknown', which contains all the other words that we do not need to classify.\n",
    "\n",
    "Also the \"silence\" class should be created, let's check the \\_background_noise_ folder"
   ]
  },
  {
   "cell_type": "code",
   "execution_count": 12,
   "id": "d98cacdb",
   "metadata": {
    "execution": {
     "iopub.execute_input": "2021-09-10T11:42:28.275313Z",
     "iopub.status.busy": "2021-09-10T11:42:28.273636Z",
     "iopub.status.idle": "2021-09-10T11:42:28.305941Z",
     "shell.execute_reply": "2021-09-10T11:42:28.306687Z",
     "shell.execute_reply.started": "2021-09-10T10:05:09.274503Z"
    },
    "papermill": {
     "duration": 0.10344,
     "end_time": "2021-09-10T11:42:28.306900",
     "exception": false,
     "start_time": "2021-09-10T11:42:28.203460",
     "status": "completed"
    },
    "tags": []
   },
   "outputs": [
    {
     "name": "stderr",
     "output_type": "stream",
     "text": [
      "/opt/conda/lib/python3.7/site-packages/ipykernel_launcher.py:32: WavFileWarning: Chunk (non-data) not understood, skipping it.\n"
     ]
    },
    {
     "data": {
      "text/html": [
       "<div>\n",
       "<style scoped>\n",
       "    .dataframe tbody tr th:only-of-type {\n",
       "        vertical-align: middle;\n",
       "    }\n",
       "\n",
       "    .dataframe tbody tr th {\n",
       "        vertical-align: top;\n",
       "    }\n",
       "\n",
       "    .dataframe thead th {\n",
       "        text-align: right;\n",
       "    }\n",
       "</style>\n",
       "<table border=\"1\" class=\"dataframe\">\n",
       "  <thead>\n",
       "    <tr style=\"text-align: right;\">\n",
       "      <th></th>\n",
       "      <th>bitrate</th>\n",
       "      <th>length</th>\n",
       "      <th>filename</th>\n",
       "    </tr>\n",
       "  </thead>\n",
       "  <tbody>\n",
       "    <tr>\n",
       "      <th>0</th>\n",
       "      <td>16000</td>\n",
       "      <td>1522930</td>\n",
       "      <td>doing_the_dishes.wav</td>\n",
       "    </tr>\n",
       "    <tr>\n",
       "      <th>1</th>\n",
       "      <td>16000</td>\n",
       "      <td>988891</td>\n",
       "      <td>dude_miaowing.wav</td>\n",
       "    </tr>\n",
       "    <tr>\n",
       "      <th>2</th>\n",
       "      <td>16000</td>\n",
       "      <td>978488</td>\n",
       "      <td>running_tap.wav</td>\n",
       "    </tr>\n",
       "    <tr>\n",
       "      <th>3</th>\n",
       "      <td>16000</td>\n",
       "      <td>960000</td>\n",
       "      <td>pink_noise.wav</td>\n",
       "    </tr>\n",
       "    <tr>\n",
       "      <th>4</th>\n",
       "      <td>16000</td>\n",
       "      <td>960000</td>\n",
       "      <td>white_noise.wav</td>\n",
       "    </tr>\n",
       "    <tr>\n",
       "      <th>5</th>\n",
       "      <td>16000</td>\n",
       "      <td>980062</td>\n",
       "      <td>exercise_bike.wav</td>\n",
       "    </tr>\n",
       "  </tbody>\n",
       "</table>\n",
       "</div>"
      ],
      "text/plain": [
       "   bitrate   length              filename\n",
       "0    16000  1522930  doing_the_dishes.wav\n",
       "1    16000   988891     dude_miaowing.wav\n",
       "2    16000   978488       running_tap.wav\n",
       "3    16000   960000        pink_noise.wav\n",
       "4    16000   960000       white_noise.wav\n",
       "5    16000   980062     exercise_bike.wav"
      ]
     },
     "execution_count": 12,
     "metadata": {},
     "output_type": "execute_result"
    }
   ],
   "source": [
    "bg_noise = os.path.join(audio_path, '_background_noise_')\n",
    "silence_filepath = os.listdir(bg_noise)\n",
    "silence_filepath = [x for x in silence_filepath if x[-3:]=='wav']\n",
    "noise_df = pd.DataFrame([get_wv_metadata(os.path.join(bg_noise, x)) for x in silence_filepath], columns=['bitrate', 'length'])\n",
    "noise_df['filename'] = silence_filepath\n",
    "noise_df"
   ]
  },
  {
   "cell_type": "markdown",
   "id": "9b2bc35b",
   "metadata": {
    "papermill": {
     "duration": 0.063628,
     "end_time": "2021-09-10T11:42:28.434876",
     "exception": false,
     "start_time": "2021-09-10T11:42:28.371248",
     "status": "completed"
    },
    "tags": []
   },
   "source": [
    "It's hard, to choose validation split for this class. For example, let's split each file into three disjoint parts (train-val-test, 80:10:10), and the create a samples with the moving window"
   ]
  },
  {
   "cell_type": "markdown",
   "id": "ff1cd198",
   "metadata": {
    "papermill": {
     "duration": 0.064127,
     "end_time": "2021-09-10T11:42:28.563095",
     "exception": false,
     "start_time": "2021-09-10T11:42:28.498968",
     "status": "completed"
    },
    "tags": []
   },
   "source": [
    "## Data preparation\n",
    "Move validation and test into separate directories, create 'silence' samples, thin out 'unknown'"
   ]
  },
  {
   "cell_type": "code",
   "execution_count": 13,
   "id": "85c972d5",
   "metadata": {
    "execution": {
     "iopub.execute_input": "2021-09-10T11:42:28.695799Z",
     "iopub.status.busy": "2021-09-10T11:42:28.694776Z",
     "iopub.status.idle": "2021-09-10T11:42:28.960248Z",
     "shell.execute_reply": "2021-09-10T11:42:28.959777Z",
     "shell.execute_reply.started": "2021-09-10T10:05:09.299791Z"
    },
    "papermill": {
     "duration": 0.333214,
     "end_time": "2021-09-10T11:42:28.960376",
     "exception": false,
     "start_time": "2021-09-10T11:42:28.627162",
     "status": "completed"
    },
    "tags": []
   },
   "outputs": [],
   "source": [
    "def sample_unknown(df, num_leave, random_state=567):\n",
    "    '''\n",
    "    Reduce number of rows with label=='unknown'\n",
    "    uniformly sampling from the unknown-labeled folders.\n",
    "    \n",
    "    df - dataframe with metadata\n",
    "    num_leave - how many samples should be chosen\n",
    "    random_state - random sedd for pd.DataFrame.sample\n",
    "    \n",
    "    Returns np.array of df indicies\n",
    "    '''\n",
    "    redundant_labels = df.loc[df['label']=='unknown', 'folder'].unique()\n",
    "    num_leave_per_label = num_leave // len(redundant_labels) + 1\n",
    "    indexlist = [df[df['folder']==l].sample(num_leave_per_label, random_state=random_state).index for l in redundant_labels]\n",
    "    return np.array(indexlist).ravel()\n",
    "\n",
    "idx_to_keep = np.hstack([\n",
    "    sample_unknown(meta_df[train_idx], mean_class_samples['train']),\n",
    "    sample_unknown(meta_df[val_idx], mean_class_samples['validation']),\n",
    "    sample_unknown(meta_df[test_idx], mean_class_samples['test']),\n",
    "    meta_df[meta_df['label']!='unknown'].index\n",
    "])\n",
    "meta_df = meta_df.loc[idx_to_keep]"
   ]
  },
  {
   "cell_type": "code",
   "execution_count": 14,
   "id": "f64b7218",
   "metadata": {
    "execution": {
     "iopub.execute_input": "2021-09-10T11:42:29.090756Z",
     "iopub.status.busy": "2021-09-10T11:42:29.090171Z",
     "iopub.status.idle": "2021-09-10T11:42:29.096612Z",
     "shell.execute_reply": "2021-09-10T11:42:29.096131Z",
     "shell.execute_reply.started": "2021-09-10T10:05:09.584436Z"
    },
    "papermill": {
     "duration": 0.055755,
     "end_time": "2021-09-10T11:42:29.096734",
     "exception": false,
     "start_time": "2021-09-10T11:42:29.040979",
     "status": "completed"
    },
    "tags": []
   },
   "outputs": [],
   "source": [
    "import itertools\n",
    "from pathlib import Path\n",
    "\n",
    "DATASET_PATH = '/kaggle/temp/data'\n",
    "TRAIN_DATASET_PATH = os.path.join(DATASET_PATH, 'train')\n",
    "VAL_DATASET_PATH = os.path.join(DATASET_PATH, 'validation')\n",
    "TEST_DATASET_PATH = os.path.join(DATASET_PATH, 'test')\n",
    "\n",
    "for dataset, label in itertools.product([TRAIN_DATASET_PATH, VAL_DATASET_PATH, TEST_DATASET_PATH], LABELS):\n",
    "    Path(os.path.join(dataset, label)).mkdir(parents=True, exist_ok=True)"
   ]
  },
  {
   "cell_type": "code",
   "execution_count": 15,
   "id": "7b8aee1e",
   "metadata": {
    "execution": {
     "iopub.execute_input": "2021-09-10T11:42:29.189986Z",
     "iopub.status.busy": "2021-09-10T11:42:29.189454Z",
     "iopub.status.idle": "2021-09-10T11:42:32.437972Z",
     "shell.execute_reply": "2021-09-10T11:42:32.437493Z",
     "shell.execute_reply.started": "2021-09-10T10:05:09.596901Z"
    },
    "papermill": {
     "duration": 3.299974,
     "end_time": "2021-09-10T11:42:32.438105",
     "exception": false,
     "start_time": "2021-09-10T11:42:29.138131",
     "status": "completed"
    },
    "tags": []
   },
   "outputs": [],
   "source": [
    "# Move files into new directories\n",
    "def move_files(df, dataset_dir):\n",
    "    for i, row in df.iterrows():\n",
    "        cur_path = os.path.join(audio_path, row['filepath'])\n",
    "        new_path = os.path.join(dataset_dir, row['label'], f\"{i}_{row['file']}\")\n",
    "        os.replace(cur_path, new_path)\n",
    "\n",
    "move_files(meta_df[(meta_df['validation']==0) & (meta_df['test']==0)], TRAIN_DATASET_PATH)\n",
    "move_files(meta_df[meta_df['validation']==1], VAL_DATASET_PATH)\n",
    "move_files(meta_df[meta_df['test']==1], TEST_DATASET_PATH)"
   ]
  },
  {
   "cell_type": "code",
   "execution_count": 16,
   "id": "67ae4ef8",
   "metadata": {
    "execution": {
     "iopub.execute_input": "2021-09-10T11:42:32.526243Z",
     "iopub.status.busy": "2021-09-10T11:42:32.525376Z",
     "iopub.status.idle": "2021-09-10T11:42:32.727239Z",
     "shell.execute_reply": "2021-09-10T11:42:32.727820Z",
     "shell.execute_reply.started": "2021-09-10T10:05:13.021265Z"
    },
    "papermill": {
     "duration": 0.25057,
     "end_time": "2021-09-10T11:42:32.728015",
     "exception": false,
     "start_time": "2021-09-10T11:42:32.477445",
     "status": "completed"
    },
    "tags": []
   },
   "outputs": [
    {
     "name": "stderr",
     "output_type": "stream",
     "text": [
      "/opt/conda/lib/python3.7/site-packages/ipykernel_launcher.py:12: WavFileWarning: Chunk (non-data) not understood, skipping it.\n",
      "  if sys.path[0] == '':\n"
     ]
    }
   ],
   "source": [
    "train_silence_path = os.path.join(TRAIN_DATASET_PATH, 'silence')\n",
    "val_silence_path = os.path.join(VAL_DATASET_PATH, 'silence')\n",
    "test_silence_path = os.path.join(TEST_DATASET_PATH, 'silence')\n",
    "\n",
    "num_samples_per_label = mean_class_samples//len(noise_df) + 1\n",
    "\n",
    "def create_wav_samples(data, bitrate, num_samples, path):\n",
    "    for x in np.linspace(0, len(data) - bitrate - 1, num_samples, dtype='int'):\n",
    "        wavfile.write(os.path.join(path, str(x)+filename), bitrate, data[x: x+bitrate])\n",
    "\n",
    "for filename in noise_df['filename']:\n",
    "    bitrate, data = wavfile.read(os.path.join(bg_noise, filename))\n",
    "    split1 = int(len(data)*0.8)\n",
    "    split2 = int(len(data)*0.9)\n",
    "    create_wav_samples(data[:split1], bitrate, num_samples_per_label['train'], train_silence_path)\n",
    "    create_wav_samples(data[split1: split2], bitrate, num_samples_per_label['validation'], val_silence_path)\n",
    "    create_wav_samples(data[split2:], bitrate, num_samples_per_label['test'], test_silence_path)"
   ]
  },
  {
   "cell_type": "code",
   "execution_count": 17,
   "id": "8055ec20",
   "metadata": {
    "execution": {
     "iopub.execute_input": "2021-09-10T11:42:32.816113Z",
     "iopub.status.busy": "2021-09-10T11:42:32.811562Z",
     "iopub.status.idle": "2021-09-10T11:42:34.579841Z",
     "shell.execute_reply": "2021-09-10T11:42:34.580273Z",
     "shell.execute_reply.started": "2021-09-10T10:05:13.308616Z"
    },
    "papermill": {
     "duration": 1.81212,
     "end_time": "2021-09-10T11:42:34.580453",
     "exception": false,
     "start_time": "2021-09-10T11:42:32.768333",
     "status": "completed"
    },
    "tags": []
   },
   "outputs": [],
   "source": [
    "!rm -rf $DATA_PATH\n",
    "del meta_df"
   ]
  },
  {
   "cell_type": "markdown",
   "id": "1b2b4ac7",
   "metadata": {
    "papermill": {
     "duration": 0.03926,
     "end_time": "2021-09-10T11:42:34.659620",
     "exception": false,
     "start_time": "2021-09-10T11:42:34.620360",
     "status": "completed"
    },
    "tags": []
   },
   "source": [
    "Now we have nice directory hierarchy and the balanced dataset"
   ]
  },
  {
   "cell_type": "code",
   "execution_count": 18,
   "id": "7ca2da67",
   "metadata": {
    "execution": {
     "iopub.execute_input": "2021-09-10T11:42:34.747391Z",
     "iopub.status.busy": "2021-09-10T11:42:34.746776Z",
     "iopub.status.idle": "2021-09-10T11:42:35.487965Z",
     "shell.execute_reply": "2021-09-10T11:42:35.487495Z",
     "shell.execute_reply.started": "2021-09-09T21:51:55.63943Z"
    },
    "papermill": {
     "duration": 0.789212,
     "end_time": "2021-09-10T11:42:35.488094",
     "exception": false,
     "start_time": "2021-09-10T11:42:34.698882",
     "status": "completed"
    },
    "tags": []
   },
   "outputs": [
    {
     "name": "stdout",
     "output_type": "stream",
     "text": [
      "/kaggle/temp/data\r\n",
      "├── test\r\n",
      "│   ├── down\r\n",
      "│   ├── go\r\n",
      "│   ├── left\r\n",
      "│   ├── no\r\n",
      "│   ├── off\r\n",
      "│   ├── on\r\n",
      "│   ├── right\r\n",
      "│   ├── silence\r\n",
      "│   ├── stop\r\n",
      "│   ├── unknown\r\n",
      "│   ├── up\r\n",
      "│   └── yes\r\n",
      "├── train\r\n",
      "│   ├── down\r\n",
      "│   ├── go\r\n",
      "│   ├── left\r\n",
      "│   ├── no\r\n",
      "│   ├── off\r\n",
      "│   ├── on\r\n",
      "│   ├── right\r\n",
      "│   ├── silence\r\n",
      "│   ├── stop\r\n",
      "│   ├── unknown\r\n",
      "│   ├── up\r\n",
      "│   └── yes\r\n",
      "└── validation\r\n",
      "    ├── down\r\n",
      "    ├── go\r\n",
      "    ├── left\r\n",
      "    ├── no\r\n",
      "    ├── off\r\n",
      "    ├── on\r\n",
      "    ├── right\r\n",
      "    ├── silence\r\n",
      "    ├── stop\r\n",
      "    ├── unknown\r\n",
      "    ├── up\r\n",
      "    └── yes\r\n",
      "\r\n",
      "39 directories\r\n"
     ]
    }
   ],
   "source": [
    "!tree -d $DATASET_PATH"
   ]
  },
  {
   "cell_type": "markdown",
   "id": "c873fd0a",
   "metadata": {
    "papermill": {
     "duration": 0.03959,
     "end_time": "2021-09-10T11:42:35.568309",
     "exception": false,
     "start_time": "2021-09-10T11:42:35.528719",
     "status": "completed"
    },
    "tags": []
   },
   "source": [
    "# Modeling\n",
    "\n",
    "## Approaches overview:\n",
    "From speech recognition approaches two main groups can be distinguished:\n",
    "\n",
    "_Classic speech_ recognition approaches - Hidden Markov Models, Gaussian Mixtures, other statistical models. Fast&cheap, don't require GPU for training and running. Cons: they require hard data preprocessing and feature creation based on signal decomposition, and understanding of acoustic models. In short - you should really understand the field to apply them. Also, they seem to be inaccurate on noisy data. Takes a similar place in speech recognition as non-deep methods in computer vision.\n",
    "\n",
    "_Deep learning_. Typically deep learning is applied in an end-to-end manner, you give a sound - you receive a text. No acoustic and language models are required. Data is preprocessed with some transformations (e.g. Fourier - STFT (spectrogram)) into 2D input. From papers published in 2014-2016, we can imagine a typical deep speech recognition model as the sequence-to-sequence one that has convolutional layers at the beginning to catch whole sounds, then some recurrent layers, and the layer classifying the actual alphabet character of the input. Received prediction like \"c-c--a-a-a--t-t\" is mapped to actual word by combining adjacent characters (This is a part of CTC loss term).\n",
    "\n",
    "With neural networks, we have two main ways: first - find and try (and, maybe use transfer learning, finetuning) a big pretrained model, second - develop and train a new one from scratch.\n",
    "I think that training a RNN with CTC loss is a too complicated approach for such a simple task and a small dataset - we simply do not have the required variety in recordings sounds and the model leads to overfitting because some of them appear only in specific combinations.\n",
    "\n",
    "But actually, we don't even need a speech recognition model. Because of almost the same recordings length, we can simply convert them into equal-sized spectrograms and train a convolutional classifier of the whole word - which we can do because we need to classify only 13 of them. I believe that the classification of a single word is a real-world case, for example, voice control like voice dialing in old phones, so this approach is not a competition hacking."
   ]
  },
  {
   "cell_type": "markdown",
   "id": "d5c78235",
   "metadata": {
    "papermill": {
     "duration": 0.039478,
     "end_time": "2021-09-10T11:42:35.647957",
     "exception": false,
     "start_time": "2021-09-10T11:42:35.608479",
     "status": "completed"
    },
    "tags": []
   },
   "source": [
    "## Preprocessing Pipeline"
   ]
  },
  {
   "cell_type": "code",
   "execution_count": 19,
   "id": "ddba3682",
   "metadata": {
    "execution": {
     "iopub.execute_input": "2021-09-10T11:42:35.732886Z",
     "iopub.status.busy": "2021-09-10T11:42:35.732225Z",
     "iopub.status.idle": "2021-09-10T11:42:39.913280Z",
     "shell.execute_reply": "2021-09-10T11:42:39.912769Z",
     "shell.execute_reply.started": "2021-09-10T10:05:42.171831Z"
    },
    "papermill": {
     "duration": 4.225479,
     "end_time": "2021-09-10T11:42:39.913432",
     "exception": false,
     "start_time": "2021-09-10T11:42:35.687953",
     "status": "completed"
    },
    "tags": []
   },
   "outputs": [],
   "source": [
    "import tensorflow as tf\n",
    "from tensorflow.audio import decode_wav\n",
    "from tensorflow import signal  # here is the Short-time Fourier Transform used to create a spectrograms\n",
    "\n",
    "AUTOTUNE = tf.data.AUTOTUNE"
   ]
  },
  {
   "cell_type": "code",
   "execution_count": 20,
   "id": "06a32156",
   "metadata": {
    "execution": {
     "iopub.execute_input": "2021-09-10T11:42:40.024121Z",
     "iopub.status.busy": "2021-09-10T11:42:40.022635Z",
     "iopub.status.idle": "2021-09-10T11:42:40.024904Z",
     "shell.execute_reply": "2021-09-10T11:42:40.025324Z",
     "shell.execute_reply.started": "2021-09-10T10:05:46.484285Z"
    },
    "papermill": {
     "duration": 0.058125,
     "end_time": "2021-09-10T11:42:40.025464",
     "exception": false,
     "start_time": "2021-09-10T11:42:39.967339",
     "status": "completed"
    },
    "tags": []
   },
   "outputs": [],
   "source": [
    "def decode_audio(audio_binary):\n",
    "    audio, _ = tf.audio.decode_wav(audio_binary)\n",
    "    return tf.squeeze(audio, axis=-1)\n",
    "\n",
    "\n",
    "def get_label(file_path):\n",
    "    parts = tf.strings.split(file_path, os.path.sep)\n",
    "    return parts[-2]\n",
    "\n",
    "\n",
    "def get_waveform_and_label(file_path):\n",
    "    label = get_label(file_path)\n",
    "    audio_binary = tf.io.read_file(file_path)\n",
    "    waveform = decode_audio(audio_binary)\n",
    "    return waveform, label\n",
    "\n",
    "\n",
    "def get_spectrogram(waveform):\n",
    "    # Padding for files with less than 16000 samples\n",
    "    zero_padding = tf.zeros([16000] - tf.shape(waveform), dtype=tf.float32)\n",
    "    waveform = tf.cast(waveform, tf.float32)\n",
    "    equal_length = tf.concat([waveform, zero_padding], 0)\n",
    "    spectrogram = tf.signal.stft(\n",
    "      equal_length, frame_length=255, frame_step=128\n",
    "    )\n",
    "\n",
    "    spectrogram = tf.abs(spectrogram)\n",
    "    return spectrogram\n",
    "\n",
    "\n",
    "def get_spectrogram_and_label_id(audio, label):\n",
    "    spectrogram = get_spectrogram(audio)\n",
    "    spectrogram = tf.expand_dims(spectrogram, -1)\n",
    "    label_id = tf.argmax(label == LABELS)\n",
    "    return spectrogram, label_id\n",
    "\n",
    "\n",
    "def load_and_preprocess_dataset(dataset_glob):\n",
    "    # actually, data loading in pytorch seem to be much more convenient for me\n",
    "    filenames = tf.io.gfile.glob(dataset_glob)\n",
    "    files_ds = tf.data.Dataset.from_tensor_slices(filenames)\n",
    "    waveform_ds = files_ds.map(get_waveform_and_label, num_parallel_calls=AUTOTUNE)\n",
    "    spectrogram_ds = waveform_ds.map(\n",
    "        get_spectrogram_and_label_id, num_parallel_calls=AUTOTUNE)\n",
    "    return spectrogram_ds"
   ]
  },
  {
   "cell_type": "code",
   "execution_count": 21,
   "id": "896e314e",
   "metadata": {
    "execution": {
     "iopub.execute_input": "2021-09-10T11:42:40.111703Z",
     "iopub.status.busy": "2021-09-10T11:42:40.111180Z",
     "iopub.status.idle": "2021-09-10T11:42:42.560904Z",
     "shell.execute_reply": "2021-09-10T11:42:42.560444Z",
     "shell.execute_reply.started": "2021-09-10T10:05:46.498869Z"
    },
    "papermill": {
     "duration": 2.495367,
     "end_time": "2021-09-10T11:42:42.561031",
     "exception": false,
     "start_time": "2021-09-10T11:42:40.065664",
     "status": "completed"
    },
    "tags": []
   },
   "outputs": [],
   "source": [
    "DATASET_PATH = '/kaggle/temp/data'\n",
    "TRAIN_DATASET_PATH = os.path.join(DATASET_PATH, 'train')\n",
    "VAL_DATASET_PATH = os.path.join(DATASET_PATH, 'validation')\n",
    "TEST_DATASET_PATH = os.path.join(DATASET_PATH, 'test')\n",
    "LABELS = np.array(['yes', 'no', 'up', 'down', 'left', 'right',\n",
    "          'on', 'off', 'stop', 'go', 'silence', 'unknown'])\n",
    "\n",
    "train_ds = load_and_preprocess_dataset(TRAIN_DATASET_PATH + '/*/*')\n",
    "val_ds = load_and_preprocess_dataset(VAL_DATASET_PATH + '/*/*')\n",
    "test_ds = load_and_preprocess_dataset(TEST_DATASET_PATH + '/*/*')"
   ]
  },
  {
   "cell_type": "code",
   "execution_count": 22,
   "id": "9958248e",
   "metadata": {
    "execution": {
     "iopub.execute_input": "2021-09-10T11:42:42.661582Z",
     "iopub.status.busy": "2021-09-10T11:42:42.660854Z",
     "iopub.status.idle": "2021-09-10T11:42:43.541904Z",
     "shell.execute_reply": "2021-09-10T11:42:43.541467Z",
     "shell.execute_reply.started": "2021-09-10T10:05:49.234865Z"
    },
    "papermill": {
     "duration": 0.941108,
     "end_time": "2021-09-10T11:42:43.542025",
     "exception": false,
     "start_time": "2021-09-10T11:42:42.600917",
     "status": "completed"
    },
    "tags": []
   },
   "outputs": [
    {
     "name": "stderr",
     "output_type": "stream",
     "text": [
      "/opt/conda/lib/python3.7/site-packages/ipykernel_launcher.py:6: RuntimeWarning: divide by zero encountered in log\n",
      "  \n"
     ]
    },
    {
     "data": {
      "image/png": "[encoded data removed]",
      "text/plain": [
       "<Figure size 720x720 with 9 Axes>"
      ]
     },
     "metadata": {
      "needs_background": "light"
     },
     "output_type": "display_data"
    }
   ],
   "source": [
    "import matplotlib.pyplot as plt\n",
    "\n",
    "def plot_spectrogram(spectrogram, ax):\n",
    "  # Convert to frequencies to log scale and transpose so that the time is\n",
    "  # represented in the x-axis (columns).\n",
    "    log_spec = np.log(spectrogram.T)[::-1]\n",
    "    ax.imshow(log_spec)\n",
    "\n",
    "rows = 3\n",
    "cols = 3\n",
    "n = rows*cols\n",
    "fig, axes = plt.subplots(rows, cols, figsize=(10, 10))\n",
    "for i, (spectrogram, label_id) in enumerate(train_ds.take(n)):\n",
    "    r = i // cols\n",
    "    c = i % cols\n",
    "    ax = axes[r][c]\n",
    "    spectrogram = tf.image.resize(spectrogram, (32, 32))\n",
    "    plot_spectrogram(np.squeeze(spectrogram.numpy()), ax)\n",
    "    ax.set_title(LABELS[label_id.numpy()])\n",
    "    ax.axis('off')\n",
    "\n",
    "plt.show()"
   ]
  },
  {
   "cell_type": "markdown",
   "id": "44e3e45c",
   "metadata": {
    "papermill": {
     "duration": 0.044903,
     "end_time": "2021-09-10T11:42:43.629671",
     "exception": false,
     "start_time": "2021-09-10T11:42:43.584768",
     "status": "completed"
    },
    "tags": []
   },
   "source": [
    "## Nearest neighbors by spectrogram\n",
    "The are similar patterns on same words spectrograms even by eye. So I decide to start with such simple method as kNN.\n",
    "\n",
    "It gives 0.566 accuracy, while random guessing baseline is 1/12 = 0.083. Not bad.\n",
    "\n",
    "I believe if spend some time on feature engineering with signal transformations (with different parameters) - score of this simple model can be hightly improved."
   ]
  },
  {
   "cell_type": "code",
   "execution_count": 23,
   "id": "3cf73fc8",
   "metadata": {
    "execution": {
     "iopub.execute_input": "2021-09-10T11:42:43.721365Z",
     "iopub.status.busy": "2021-09-10T11:42:43.720449Z",
     "iopub.status.idle": "2021-09-10T11:43:51.091482Z",
     "shell.execute_reply": "2021-09-10T11:43:51.091914Z",
     "shell.execute_reply.started": "2021-09-09T21:52:04.144461Z"
    },
    "papermill": {
     "duration": 67.420011,
     "end_time": "2021-09-10T11:43:51.092063",
     "exception": false,
     "start_time": "2021-09-10T11:42:43.672052",
     "status": "completed"
    },
    "tags": []
   },
   "outputs": [
    {
     "name": "stdout",
     "output_type": "stream",
     "text": [
      "CPU times: user 2min, sys: 4.36 s, total: 2min 4s\n",
      "Wall time: 1min 7s\n"
     ]
    }
   ],
   "source": [
    "%%time\n",
    "# I already created TF datasets, but it is much simpler to take knn from sklearn\n",
    "def spectrogram_dataset_to_numpy(dataset):\n",
    "    spectrograms = []\n",
    "    labels = []\n",
    "    for x, y in dataset:\n",
    "        spectrograms.append(tf.image.resize(x, (32, 32)))\n",
    "        labels.append(y)\n",
    "    spectrograms = np.array(spectrograms).reshape(-1, 32*32)\n",
    "    labels = np.array(labels)\n",
    "    return spectrograms, labels\n",
    "\n",
    "train_spectrograms, train_labels = spectrogram_dataset_to_numpy(train_ds)\n",
    "val_spectrograms, val_labels = spectrogram_dataset_to_numpy(val_ds)\n",
    "test_spectrograms, test_labels = spectrogram_dataset_to_numpy(test_ds)"
   ]
  },
  {
   "cell_type": "code",
   "execution_count": 24,
   "id": "4f9c994e",
   "metadata": {
    "execution": {
     "iopub.execute_input": "2021-09-10T11:43:51.181171Z",
     "iopub.status.busy": "2021-09-10T11:43:51.180672Z",
     "iopub.status.idle": "2021-09-10T11:44:06.316164Z",
     "shell.execute_reply": "2021-09-10T11:44:06.315504Z",
     "shell.execute_reply.started": "2021-09-09T21:53:11.521487Z"
    },
    "papermill": {
     "duration": 15.181842,
     "end_time": "2021-09-10T11:44:06.316350",
     "exception": false,
     "start_time": "2021-09-10T11:43:51.134508",
     "status": "completed"
    },
    "tags": []
   },
   "outputs": [
    {
     "name": "stdout",
     "output_type": "stream",
     "text": [
      "max validation accuracy: 0.5656239922605611\n"
     ]
    },
    {
     "data": {
      "image/png": "[encoded data removed]",
      "text/plain": [
       "<Figure size 432x288 with 1 Axes>"
      ]
     },
     "metadata": {
      "needs_background": "light"
     },
     "output_type": "display_data"
    }
   ],
   "source": [
    "from sklearn.neighbors import KNeighborsClassifier\n",
    "from sklearn.metrics import accuracy_score\n",
    "\n",
    "scores = []\n",
    "ks = np.arange(5, 55, 10)\n",
    "for k in ks:\n",
    "    knn = KNeighborsClassifier(k, metric='cosine', n_jobs=-1)\n",
    "    knn.fit(train_spectrograms, train_labels)\n",
    "    knn_pred = knn.predict(val_spectrograms)\n",
    "    scores.append(accuracy_score(val_labels, knn_pred))\n",
    "    \n",
    "plt.plot(ks, scores)\n",
    "print(f'max validation accuracy: {np.max(scores)}')"
   ]
  },
  {
   "cell_type": "code",
   "execution_count": 25,
   "id": "0e24e1b8",
   "metadata": {
    "execution": {
     "iopub.execute_input": "2021-09-10T11:44:06.410626Z",
     "iopub.status.busy": "2021-09-10T11:44:06.409819Z",
     "iopub.status.idle": "2021-09-10T11:44:09.394071Z",
     "shell.execute_reply": "2021-09-10T11:44:09.393561Z",
     "shell.execute_reply.started": "2021-09-09T21:53:26.652926Z"
    },
    "papermill": {
     "duration": 3.031864,
     "end_time": "2021-09-10T11:44:09.394232",
     "exception": false,
     "start_time": "2021-09-10T11:44:06.362368",
     "status": "completed"
    },
    "tags": []
   },
   "outputs": [
    {
     "name": "stdout",
     "output_type": "stream",
     "text": [
      "test accuracy 0.5705024311183144\n"
     ]
    }
   ],
   "source": [
    "knn = KNeighborsClassifier(25, metric='cosine', n_jobs=-1)\n",
    "knn.fit(train_spectrograms, train_labels)\n",
    "knn_pred = knn.predict(test_spectrograms)\n",
    "print('test accuracy', accuracy_score(test_labels, knn_pred))"
   ]
  },
  {
   "cell_type": "code",
   "execution_count": 26,
   "id": "58054407",
   "metadata": {
    "execution": {
     "iopub.execute_input": "2021-09-10T11:44:09.493247Z",
     "iopub.status.busy": "2021-09-10T11:44:09.492371Z",
     "iopub.status.idle": "2021-09-10T11:44:09.494679Z",
     "shell.execute_reply": "2021-09-10T11:44:09.495079Z",
     "shell.execute_reply.started": "2021-09-09T21:53:29.443594Z"
    },
    "papermill": {
     "duration": 0.049681,
     "end_time": "2021-09-10T11:44:09.495227",
     "exception": false,
     "start_time": "2021-09-10T11:44:09.445546",
     "status": "completed"
    },
    "tags": []
   },
   "outputs": [],
   "source": [
    "del train_spectrograms, train_labels, val_spectrograms, val_labels, test_spectrograms, test_labels"
   ]
  },
  {
   "cell_type": "markdown",
   "id": "b0a63ae7",
   "metadata": {
    "papermill": {
     "duration": 0.042629,
     "end_time": "2021-09-10T11:44:09.581265",
     "exception": false,
     "start_time": "2021-09-10T11:44:09.538636",
     "status": "completed"
    },
    "tags": []
   },
   "source": [
    "## CNN from scratch (Keras)\n",
    "Inspired by TensorFlow Tutorial [Simple audio recognition: Recognizing keywords](https://www.tensorflow.org/tutorials/audio/simple_audio), I also borroved some helping function from it.\n",
    "\n",
    "Audios are converted to spectrograms with STFT (I took parameters from the tutorial), then spectrograms resized to 32x32 to reduce the feature space then used as input for CNN. Classifier constructed in a standart way - with 3x3  convolutional kernels and max pooling, then single dense outputing layer on the top."
   ]
  },
  {
   "cell_type": "code",
   "execution_count": 27,
   "id": "47954a43",
   "metadata": {
    "execution": {
     "iopub.execute_input": "2021-09-10T11:44:09.673608Z",
     "iopub.status.busy": "2021-09-10T11:44:09.672752Z",
     "iopub.status.idle": "2021-09-10T11:44:56.917493Z",
     "shell.execute_reply": "2021-09-10T11:44:56.916997Z",
     "shell.execute_reply.started": "2021-09-10T10:05:51.321782Z"
    },
    "papermill": {
     "duration": 47.293471,
     "end_time": "2021-09-10T11:44:56.917629",
     "exception": false,
     "start_time": "2021-09-10T11:44:09.624158",
     "status": "completed"
    },
    "tags": []
   },
   "outputs": [
    {
     "name": "stdout",
     "output_type": "stream",
     "text": [
      "Input shape: (124, 129, 1)\n"
     ]
    }
   ],
   "source": [
    "from tensorflow.keras import layers, models\n",
    "from tensorflow.keras.layers.experimental import preprocessing\n",
    "\n",
    "for spectrogram, _ in train_ds.take(1):\n",
    "    input_shape = spectrogram.shape\n",
    "print('Input shape:', input_shape)\n",
    "num_labels = len(LABELS)\n",
    "\n",
    "resizing_layer = preprocessing.Resizing(32, 32)\n",
    "# fit the scaler\n",
    "norm_layer = preprocessing.Normalization()\n",
    "norm_layer.adapt(train_ds.map(lambda x, _: resizing_layer(x)))"
   ]
  },
  {
   "cell_type": "code",
   "execution_count": 28,
   "id": "81bdacb6",
   "metadata": {
    "execution": {
     "iopub.execute_input": "2021-09-10T11:44:57.014002Z",
     "iopub.status.busy": "2021-09-10T11:44:57.013464Z",
     "iopub.status.idle": "2021-09-10T11:44:57.209670Z",
     "shell.execute_reply": "2021-09-10T11:44:57.208986Z",
     "shell.execute_reply.started": "2021-09-10T10:06:39.930539Z"
    },
    "papermill": {
     "duration": 0.248545,
     "end_time": "2021-09-10T11:44:57.209806",
     "exception": false,
     "start_time": "2021-09-10T11:44:56.961261",
     "status": "completed"
    },
    "tags": []
   },
   "outputs": [
    {
     "name": "stdout",
     "output_type": "stream",
     "text": [
      "Model: \"sequential\"\n",
      "_________________________________________________________________\n",
      "Layer (type)                 Output Shape              Param #   \n",
      "=================================================================\n",
      "resizing (Resizing)          (None, 32, 32, 1)         0         \n",
      "_________________________________________________________________\n",
      "normalization (Normalization (None, 32, 32, 1)         3         \n",
      "_________________________________________________________________\n",
      "conv2d (Conv2D)              (None, 32, 32, 16)        160       \n",
      "_________________________________________________________________\n",
      "batch_normalization (BatchNo (None, 32, 32, 16)        64        \n",
      "_________________________________________________________________\n",
      "activation (Activation)      (None, 32, 32, 16)        0         \n",
      "_________________________________________________________________\n",
      "conv2d_1 (Conv2D)            (None, 32, 32, 16)        2320      \n",
      "_________________________________________________________________\n",
      "batch_normalization_1 (Batch (None, 32, 32, 16)        64        \n",
      "_________________________________________________________________\n",
      "activation_1 (Activation)    (None, 32, 32, 16)        0         \n",
      "_________________________________________________________________\n",
      "max_pooling2d (MaxPooling2D) (None, 16, 16, 16)        0         \n",
      "_________________________________________________________________\n",
      "dropout (Dropout)            (None, 16, 16, 16)        0         \n",
      "_________________________________________________________________\n",
      "conv2d_2 (Conv2D)            (None, 16, 16, 32)        4640      \n",
      "_________________________________________________________________\n",
      "batch_normalization_2 (Batch (None, 16, 16, 32)        128       \n",
      "_________________________________________________________________\n",
      "activation_2 (Activation)    (None, 16, 16, 32)        0         \n",
      "_________________________________________________________________\n",
      "conv2d_3 (Conv2D)            (None, 16, 16, 48)        13872     \n",
      "_________________________________________________________________\n",
      "batch_normalization_3 (Batch (None, 16, 16, 48)        192       \n",
      "_________________________________________________________________\n",
      "activation_3 (Activation)    (None, 16, 16, 48)        0         \n",
      "_________________________________________________________________\n",
      "max_pooling2d_1 (MaxPooling2 (None, 8, 8, 48)          0         \n",
      "_________________________________________________________________\n",
      "dropout_1 (Dropout)          (None, 8, 8, 48)          0         \n",
      "_________________________________________________________________\n",
      "conv2d_4 (Conv2D)            (None, 8, 8, 64)          27712     \n",
      "_________________________________________________________________\n",
      "batch_normalization_4 (Batch (None, 8, 8, 64)          256       \n",
      "_________________________________________________________________\n",
      "activation_4 (Activation)    (None, 8, 8, 64)          0         \n",
      "_________________________________________________________________\n",
      "conv2d_5 (Conv2D)            (None, 8, 8, 128)         73856     \n",
      "_________________________________________________________________\n",
      "batch_normalization_5 (Batch (None, 8, 8, 128)         512       \n",
      "_________________________________________________________________\n",
      "activation_5 (Activation)    (None, 8, 8, 128)         0         \n",
      "_________________________________________________________________\n",
      "global_max_pooling2d (Global (None, 128)               0         \n",
      "_________________________________________________________________\n",
      "flatten (Flatten)            (None, 128)               0         \n",
      "_________________________________________________________________\n",
      "dropout_2 (Dropout)          (None, 128)               0         \n",
      "_________________________________________________________________\n",
      "dense (Dense)                (None, 12)                1548      \n",
      "=================================================================\n",
      "Total params: 125,327\n",
      "Trainable params: 124,716\n",
      "Non-trainable params: 611\n",
      "_________________________________________________________________\n"
     ]
    }
   ],
   "source": [
    "model = models.Sequential([\n",
    "    layers.Input(shape=input_shape),\n",
    "    resizing_layer,\n",
    "    norm_layer,\n",
    "    layers.Conv2D(16, 3, padding='same'),\n",
    "    layers.BatchNormalization(),\n",
    "    layers.Activation('relu'),\n",
    "    layers.Conv2D(16, 3, padding='same'),\n",
    "    layers.BatchNormalization(),\n",
    "    layers.Activation('relu'),\n",
    "    layers.MaxPooling2D(),\n",
    "    layers.Dropout(0.2),\n",
    "    \n",
    "    layers.Conv2D(32, 3, padding='same'),\n",
    "    layers.BatchNormalization(),\n",
    "    layers.Activation('relu'),\n",
    "    layers.Conv2D(48, 3, padding='same'),\n",
    "    layers.BatchNormalization(),\n",
    "    layers.Activation('relu'),\n",
    "    layers.MaxPooling2D(),\n",
    "    layers.Dropout(0.25),\n",
    "    \n",
    "    layers.Conv2D(64, 3, padding='same'),\n",
    "    layers.BatchNormalization(),\n",
    "    layers.Activation('relu'),\n",
    "    layers.Conv2D(128, 3, padding='same'),\n",
    "    layers.BatchNormalization(),\n",
    "    layers.Activation('relu'),\n",
    "    layers.GlobalMaxPooling2D(),\n",
    "\n",
    "    layers.Flatten(),\n",
    "    layers.Dropout(0.4),\n",
    "    layers.Dense(num_labels),\n",
    "])\n",
    "\n",
    "model.summary()\n",
    "\n",
    "model.compile(\n",
    "    tf.keras.optimizers.Adam(1e-4),\n",
    "    loss=tf.keras.losses.SparseCategoricalCrossentropy(from_logits=True),\n",
    "    metrics=['accuracy']\n",
    ")"
   ]
  },
  {
   "cell_type": "code",
   "execution_count": 29,
   "id": "034b04ad",
   "metadata": {
    "execution": {
     "iopub.execute_input": "2021-09-10T11:44:57.303031Z",
     "iopub.status.busy": "2021-09-10T11:44:57.302443Z",
     "iopub.status.idle": "2021-09-10T11:47:41.906061Z",
     "shell.execute_reply": "2021-09-10T11:47:41.905454Z",
     "shell.execute_reply.started": "2021-09-10T10:06:40.385125Z"
    },
    "papermill": {
     "duration": 164.652319,
     "end_time": "2021-09-10T11:47:41.906243",
     "exception": false,
     "start_time": "2021-09-10T11:44:57.253924",
     "status": "completed"
    },
    "tags": []
   },
   "outputs": [
    {
     "name": "stdout",
     "output_type": "stream",
     "text": [
      "Epoch 1/100\n",
      "174/174 [==============================] - 57s 49ms/step - loss: 4.8138 - accuracy: 0.0980 - val_loss: 2.4041 - val_accuracy: 0.1303\n",
      "Epoch 2/100\n",
      "174/174 [==============================] - 2s 12ms/step - loss: 2.8892 - accuracy: 0.1245 - val_loss: 2.3296 - val_accuracy: 0.1509\n",
      "Epoch 3/100\n",
      "174/174 [==============================] - 2s 12ms/step - loss: 2.5045 - accuracy: 0.1521 - val_loss: 2.2766 - val_accuracy: 0.1835\n",
      "Epoch 4/100\n",
      "174/174 [==============================] - 2s 11ms/step - loss: 2.3564 - accuracy: 0.1726 - val_loss: 2.2250 - val_accuracy: 0.2502\n",
      "Epoch 5/100\n",
      "174/174 [==============================] - 2s 11ms/step - loss: 2.2962 - accuracy: 0.1919 - val_loss: 2.1620 - val_accuracy: 0.3002\n",
      "Epoch 6/100\n",
      "174/174 [==============================] - 2s 12ms/step - loss: 2.2197 - accuracy: 0.2223 - val_loss: 2.0809 - val_accuracy: 0.3467\n",
      "Epoch 7/100\n",
      "174/174 [==============================] - 2s 12ms/step - loss: 2.1502 - accuracy: 0.2466 - val_loss: 1.9857 - val_accuracy: 0.3741\n",
      "Epoch 8/100\n",
      "174/174 [==============================] - 2s 12ms/step - loss: 2.0762 - accuracy: 0.2842 - val_loss: 1.8540 - val_accuracy: 0.4386\n",
      "Epoch 9/100\n",
      "174/174 [==============================] - 2s 13ms/step - loss: 1.9733 - accuracy: 0.3195 - val_loss: 1.6879 - val_accuracy: 0.4869\n",
      "Epoch 10/100\n",
      "174/174 [==============================] - 2s 11ms/step - loss: 1.8475 - accuracy: 0.3661 - val_loss: 1.5105 - val_accuracy: 0.5224\n",
      "Epoch 11/100\n",
      "174/174 [==============================] - 2s 12ms/step - loss: 1.7241 - accuracy: 0.4082 - val_loss: 1.3520 - val_accuracy: 0.5924\n",
      "Epoch 12/100\n",
      "174/174 [==============================] - 2s 12ms/step - loss: 1.5872 - accuracy: 0.4491 - val_loss: 1.2301 - val_accuracy: 0.6153\n",
      "Epoch 13/100\n",
      "174/174 [==============================] - 2s 12ms/step - loss: 1.4764 - accuracy: 0.4919 - val_loss: 1.1109 - val_accuracy: 0.6617\n",
      "Epoch 14/100\n",
      "174/174 [==============================] - 2s 12ms/step - loss: 1.3795 - accuracy: 0.5248 - val_loss: 1.0115 - val_accuracy: 0.6895\n",
      "Epoch 15/100\n",
      "174/174 [==============================] - 2s 11ms/step - loss: 1.2979 - accuracy: 0.5533 - val_loss: 0.9217 - val_accuracy: 0.7149\n",
      "Epoch 16/100\n",
      "174/174 [==============================] - 2s 11ms/step - loss: 1.2029 - accuracy: 0.5901 - val_loss: 0.8537 - val_accuracy: 0.7475\n",
      "Epoch 17/100\n",
      "174/174 [==============================] - 2s 11ms/step - loss: 1.1321 - accuracy: 0.6090 - val_loss: 0.7988 - val_accuracy: 0.7581\n",
      "Epoch 18/100\n",
      "174/174 [==============================] - 2s 12ms/step - loss: 1.0933 - accuracy: 0.6291 - val_loss: 0.7490 - val_accuracy: 0.7685\n",
      "Epoch 19/100\n",
      "174/174 [==============================] - 2s 12ms/step - loss: 1.0014 - accuracy: 0.6596 - val_loss: 0.6961 - val_accuracy: 0.7894\n",
      "Epoch 20/100\n",
      "174/174 [==============================] - 2s 11ms/step - loss: 0.9868 - accuracy: 0.6668 - val_loss: 0.6580 - val_accuracy: 0.8068\n",
      "Epoch 21/100\n",
      "174/174 [==============================] - 2s 12ms/step - loss: 0.9142 - accuracy: 0.6908 - val_loss: 0.6182 - val_accuracy: 0.8078\n",
      "Epoch 22/100\n",
      "174/174 [==============================] - 2s 11ms/step - loss: 0.8630 - accuracy: 0.7124 - val_loss: 0.5923 - val_accuracy: 0.8136\n",
      "Epoch 23/100\n",
      "174/174 [==============================] - 2s 12ms/step - loss: 0.8498 - accuracy: 0.7184 - val_loss: 0.5509 - val_accuracy: 0.8275\n",
      "Epoch 24/100\n",
      "174/174 [==============================] - 2s 13ms/step - loss: 0.7885 - accuracy: 0.7330 - val_loss: 0.5451 - val_accuracy: 0.8291\n",
      "Epoch 25/100\n",
      "174/174 [==============================] - 2s 12ms/step - loss: 0.7734 - accuracy: 0.7407 - val_loss: 0.5367 - val_accuracy: 0.8288\n",
      "Epoch 26/100\n",
      "174/174 [==============================] - 2s 12ms/step - loss: 0.7365 - accuracy: 0.7527 - val_loss: 0.5173 - val_accuracy: 0.8381\n",
      "Epoch 27/100\n",
      "174/174 [==============================] - 2s 11ms/step - loss: 0.7121 - accuracy: 0.7658 - val_loss: 0.4940 - val_accuracy: 0.8446\n",
      "Epoch 28/100\n",
      "174/174 [==============================] - 2s 11ms/step - loss: 0.6973 - accuracy: 0.7706 - val_loss: 0.4874 - val_accuracy: 0.8475\n",
      "Epoch 29/100\n",
      "174/174 [==============================] - 2s 12ms/step - loss: 0.6849 - accuracy: 0.7731 - val_loss: 0.4652 - val_accuracy: 0.8478\n",
      "Epoch 30/100\n",
      "174/174 [==============================] - 2s 12ms/step - loss: 0.6643 - accuracy: 0.7788 - val_loss: 0.4571 - val_accuracy: 0.8523\n",
      "Epoch 31/100\n",
      "174/174 [==============================] - 2s 11ms/step - loss: 0.6504 - accuracy: 0.7869 - val_loss: 0.4482 - val_accuracy: 0.8552\n",
      "Epoch 32/100\n",
      "174/174 [==============================] - 2s 11ms/step - loss: 0.6338 - accuracy: 0.7904 - val_loss: 0.4492 - val_accuracy: 0.8523\n",
      "Epoch 33/100\n",
      "174/174 [==============================] - 2s 11ms/step - loss: 0.6242 - accuracy: 0.7937 - val_loss: 0.4344 - val_accuracy: 0.8588\n",
      "Epoch 34/100\n",
      "174/174 [==============================] - 2s 12ms/step - loss: 0.5883 - accuracy: 0.8050 - val_loss: 0.4308 - val_accuracy: 0.8559\n",
      "Epoch 35/100\n",
      "174/174 [==============================] - 2s 12ms/step - loss: 0.5799 - accuracy: 0.8090 - val_loss: 0.4262 - val_accuracy: 0.8613\n",
      "Epoch 36/100\n",
      "174/174 [==============================] - 2s 11ms/step - loss: 0.5589 - accuracy: 0.8128 - val_loss: 0.4108 - val_accuracy: 0.8662\n",
      "Epoch 37/100\n",
      "174/174 [==============================] - 2s 11ms/step - loss: 0.5612 - accuracy: 0.8164 - val_loss: 0.4277 - val_accuracy: 0.8578\n",
      "Epoch 38/100\n",
      "174/174 [==============================] - 2s 11ms/step - loss: 0.5553 - accuracy: 0.8180 - val_loss: 0.4028 - val_accuracy: 0.8694\n",
      "Epoch 39/100\n",
      "174/174 [==============================] - 2s 12ms/step - loss: 0.5304 - accuracy: 0.8224 - val_loss: 0.4023 - val_accuracy: 0.8662\n",
      "Epoch 40/100\n",
      "174/174 [==============================] - 2s 13ms/step - loss: 0.5317 - accuracy: 0.8266 - val_loss: 0.3936 - val_accuracy: 0.8733\n",
      "Epoch 41/100\n",
      "174/174 [==============================] - 2s 12ms/step - loss: 0.5140 - accuracy: 0.8281 - val_loss: 0.3905 - val_accuracy: 0.8720\n",
      "Epoch 42/100\n",
      "174/174 [==============================] - 2s 11ms/step - loss: 0.4944 - accuracy: 0.8373 - val_loss: 0.3785 - val_accuracy: 0.8807\n",
      "Epoch 43/100\n",
      "174/174 [==============================] - 2s 11ms/step - loss: 0.4840 - accuracy: 0.8397 - val_loss: 0.3867 - val_accuracy: 0.8752\n",
      "Epoch 44/100\n",
      "174/174 [==============================] - 2s 12ms/step - loss: 0.4820 - accuracy: 0.8408 - val_loss: 0.3756 - val_accuracy: 0.8784\n",
      "Epoch 45/100\n",
      "174/174 [==============================] - 2s 12ms/step - loss: 0.4736 - accuracy: 0.8457 - val_loss: 0.3983 - val_accuracy: 0.8681\n",
      "Epoch 46/100\n",
      "174/174 [==============================] - 2s 11ms/step - loss: 0.4803 - accuracy: 0.8391 - val_loss: 0.3682 - val_accuracy: 0.8823\n",
      "Epoch 47/100\n",
      "174/174 [==============================] - 2s 12ms/step - loss: 0.4607 - accuracy: 0.8499 - val_loss: 0.3506 - val_accuracy: 0.8916\n",
      "Epoch 48/100\n",
      "174/174 [==============================] - 2s 11ms/step - loss: 0.4538 - accuracy: 0.8510 - val_loss: 0.3684 - val_accuracy: 0.8823\n",
      "Epoch 49/100\n",
      "174/174 [==============================] - 2s 12ms/step - loss: 0.4486 - accuracy: 0.8528 - val_loss: 0.3506 - val_accuracy: 0.8894\n",
      "Epoch 50/100\n",
      "174/174 [==============================] - 2s 12ms/step - loss: 0.4412 - accuracy: 0.8573 - val_loss: 0.3514 - val_accuracy: 0.8871\n",
      "Epoch 51/100\n",
      "174/174 [==============================] - 2s 11ms/step - loss: 0.4329 - accuracy: 0.8533 - val_loss: 0.3528 - val_accuracy: 0.8862\n",
      "Epoch 52/100\n",
      "174/174 [==============================] - 2s 11ms/step - loss: 0.4295 - accuracy: 0.8607 - val_loss: 0.3478 - val_accuracy: 0.8910\n",
      "Restoring model weights from the end of the best epoch.\n",
      "Epoch 00052: early stopping\n"
     ]
    }
   ],
   "source": [
    "batch_size = 128\n",
    "train_ds_batched = train_ds.cache().shuffle(len(train_ds), reshuffle_each_iteration=True).prefetch(AUTOTUNE).batch(batch_size)\n",
    "val_ds_batched = val_ds.cache().prefetch(AUTOTUNE).batch(batch_size)\n",
    "\n",
    "EPOCHS = 100\n",
    "history = model.fit(\n",
    "    train_ds_batched, \n",
    "    validation_data=val_ds_batched,  \n",
    "    epochs=EPOCHS,\n",
    "    callbacks=tf.keras.callbacks.EarlyStopping('val_accuracy', verbose=1, patience=5, restore_best_weights=True),\n",
    ")"
   ]
  },
  {
   "cell_type": "markdown",
   "id": "c14f91db",
   "metadata": {
    "papermill": {
     "duration": 0.513701,
     "end_time": "2021-09-10T11:47:42.921614",
     "exception": false,
     "start_time": "2021-09-10T11:47:42.407913",
     "status": "completed"
    },
    "tags": []
   },
   "source": [
    "0.89-0.90 on validation"
   ]
  },
  {
   "cell_type": "code",
   "execution_count": 30,
   "id": "1b4ba90b",
   "metadata": {
    "execution": {
     "iopub.execute_input": "2021-09-10T11:47:43.944611Z",
     "iopub.status.busy": "2021-09-10T11:47:43.940327Z",
     "iopub.status.idle": "2021-09-10T11:47:44.338255Z",
     "shell.execute_reply": "2021-09-10T11:47:44.337834Z",
     "shell.execute_reply.started": "2021-09-09T21:57:47.994495Z"
    },
    "papermill": {
     "duration": 0.911159,
     "end_time": "2021-09-10T11:47:44.338403",
     "exception": false,
     "start_time": "2021-09-10T11:47:43.427244",
     "status": "completed"
    },
    "tags": []
   },
   "outputs": [
    {
     "data": {
      "image/png": "[encoded data removed]",
      "text/plain": [
       "<Figure size 720x576 with 2 Axes>"
      ]
     },
     "metadata": {
      "needs_background": "light"
     },
     "output_type": "display_data"
    }
   ],
   "source": [
    "fig, axs = plt.subplots(2, 1, tight_layout=True, figsize=(10, 8))\n",
    "axs[0].set_title('Loss')\n",
    "axs[1].set_title('Accuracy')\n",
    "axs[0].plot(history.history['loss'], label='train')\n",
    "axs[0].plot(history.history['val_loss'], label='validation')\n",
    "axs[1].plot(history.history['accuracy'], label='train')\n",
    "axs[1].plot(history.history['val_accuracy'], label='validation')\n",
    "axs[0].legend();"
   ]
  },
  {
   "cell_type": "code",
   "execution_count": 31,
   "id": "bede62c6",
   "metadata": {
    "execution": {
     "iopub.execute_input": "2021-09-10T11:47:45.380777Z",
     "iopub.status.busy": "2021-09-10T11:47:45.380188Z",
     "iopub.status.idle": "2021-09-10T11:47:53.765390Z",
     "shell.execute_reply": "2021-09-10T11:47:53.764957Z",
     "shell.execute_reply.started": "2021-09-09T21:57:48.417432Z"
    },
    "papermill": {
     "duration": 8.911118,
     "end_time": "2021-09-10T11:47:53.765511",
     "exception": false,
     "start_time": "2021-09-10T11:47:44.854393",
     "status": "completed"
    },
    "tags": []
   },
   "outputs": [
    {
     "data": {
      "image/png": "[encoded data removed]",
      "text/plain": [
       "<Figure size 720x576 with 2 Axes>"
      ]
     },
     "metadata": {
      "needs_background": "light"
     },
     "output_type": "display_data"
    }
   ],
   "source": [
    "import seaborn as sns\n",
    "test_audio = []\n",
    "test_labels = []\n",
    "\n",
    "for audio, label in val_ds:\n",
    "    test_audio.append(audio.numpy())\n",
    "    test_labels.append(label.numpy())\n",
    "\n",
    "test_audio = np.array(test_audio)\n",
    "test_labels = np.array(test_labels)\n",
    "    \n",
    "y_pred = np.argmax(model.predict(test_audio), axis=1)\n",
    "y_true = test_labels\n",
    "    \n",
    "confusion_mtx = tf.math.confusion_matrix(y_true, y_pred) \n",
    "plt.figure(figsize=(10, 8))\n",
    "sns.heatmap(confusion_mtx, xticklabels=LABELS, yticklabels=LABELS, \n",
    "            annot=True, fmt='g')\n",
    "plt.xlabel('Prediction')\n",
    "plt.ylabel('Label')\n",
    "plt.show()"
   ]
  },
  {
   "cell_type": "markdown",
   "id": "7be9a42d",
   "metadata": {
    "papermill": {
     "duration": 0.506708,
     "end_time": "2021-09-10T11:47:54.783258",
     "exception": false,
     "start_time": "2021-09-10T11:47:54.276550",
     "status": "completed"
    },
    "tags": []
   },
   "source": [
    "Model often misclassify \"go\" and \"no\". Also model badly predict \"unknown\", it could be assumed - its hard to train model predict such thing in supervised way."
   ]
  },
  {
   "cell_type": "code",
   "execution_count": 32,
   "id": "fce851d3",
   "metadata": {
    "execution": {
     "iopub.execute_input": "2021-09-10T11:47:55.807751Z",
     "iopub.status.busy": "2021-09-10T11:47:55.806888Z",
     "iopub.status.idle": "2021-09-10T11:48:01.990965Z",
     "shell.execute_reply": "2021-09-10T11:48:01.991382Z",
     "shell.execute_reply.started": "2021-09-09T22:05:39.572568Z"
    },
    "papermill": {
     "duration": 6.694089,
     "end_time": "2021-09-10T11:48:01.991539",
     "exception": false,
     "start_time": "2021-09-10T11:47:55.297450",
     "status": "completed"
    },
    "tags": []
   },
   "outputs": [
    {
     "name": "stdout",
     "output_type": "stream",
     "text": [
      "49/49 [==============================] - 6s 121ms/step - loss: 0.3597 - accuracy: 0.8794\n"
     ]
    },
    {
     "data": {
      "text/plain": [
       "[0.3596856892108917, 0.8794165253639221]"
      ]
     },
     "execution_count": 32,
     "metadata": {},
     "output_type": "execute_result"
    }
   ],
   "source": [
    "model.evaluate(test_ds.batch(64))"
   ]
  },
  {
   "cell_type": "markdown",
   "id": "a653df6e",
   "metadata": {
    "papermill": {
     "duration": 0.519005,
     "end_time": "2021-09-10T11:48:03.032109",
     "exception": false,
     "start_time": "2021-09-10T11:48:02.513104",
     "status": "completed"
    },
    "tags": []
   },
   "source": [
    "## Little overview of pretrained model approach - DeepSpeech2\n",
    "\n",
    "Classic situation: this package does not have documentation. I decided to hastily create this little code snippet to try the model, but if will need the same model in production, we can reimplement it manually, and then load the weights."
   ]
  },
  {
   "cell_type": "code",
   "execution_count": 33,
   "id": "47f63dcf",
   "metadata": {
    "execution": {
     "iopub.execute_input": "2021-09-10T11:48:04.130944Z",
     "iopub.status.busy": "2021-09-10T11:48:04.128256Z",
     "iopub.status.idle": "2021-09-10T11:48:15.757404Z",
     "shell.execute_reply": "2021-09-10T11:48:15.756804Z",
     "shell.execute_reply.started": "2021-09-09T22:06:24.704599Z"
    },
    "papermill": {
     "duration": 12.204602,
     "end_time": "2021-09-10T11:48:15.757556",
     "exception": false,
     "start_time": "2021-09-10T11:48:03.552954",
     "status": "completed"
    },
    "tags": []
   },
   "outputs": [],
   "source": [
    "%%capture\n",
    "!pip install tables google-cloud-storage python-speech-features\n",
    "!git clone https://github.com/rolczynski/Automatic-Speech-Recognition.git\n",
    "!mv Automatic-Speech-Recognition/automatic_speech_recognition automatic_speech_recognition\n",
    "!rm -rf Automatic-Speech-Recognition"
   ]
  },
  {
   "cell_type": "code",
   "execution_count": 34,
   "id": "4b0831c5",
   "metadata": {
    "execution": {
     "iopub.execute_input": "2021-09-10T11:48:16.873092Z",
     "iopub.status.busy": "2021-09-10T11:48:16.872241Z",
     "iopub.status.idle": "2021-09-10T11:48:27.401096Z",
     "shell.execute_reply": "2021-09-10T11:48:27.400064Z",
     "shell.execute_reply.started": "2021-09-09T22:06:38.200687Z"
    },
    "papermill": {
     "duration": 11.09821,
     "end_time": "2021-09-10T11:48:27.401305",
     "exception": false,
     "start_time": "2021-09-10T11:48:16.303095",
     "status": "completed"
    },
    "tags": []
   },
   "outputs": [
    {
     "name": "stdout",
     "output_type": "stream",
     "text": [
      "Model: \"DeepSpeech2\"\n",
      "_________________________________________________________________\n",
      "Layer (type)                 Output Shape              Param #   \n",
      "=================================================================\n",
      "X (InputLayer)               [(None, None, 160)]       0         \n",
      "_________________________________________________________________\n",
      "lambda (Lambda)              (None, None, 160, 1)      0         \n",
      "_________________________________________________________________\n",
      "conv_1 (Conv2D)              (None, None, 80, 32)      14432     \n",
      "_________________________________________________________________\n",
      "conv_1_bn (BatchNormalizatio (None, None, 80, 32)      128       \n",
      "_________________________________________________________________\n",
      "conv_1_relu (ReLU)           (None, None, 80, 32)      0         \n",
      "_________________________________________________________________\n",
      "conv_2 (Conv2D)              (None, None, 40, 32)      236544    \n",
      "_________________________________________________________________\n",
      "conv_2_bn (BatchNormalizatio (None, None, 40, 32)      128       \n",
      "_________________________________________________________________\n",
      "conv_2_relu (ReLU)           (None, None, 40, 32)      0         \n",
      "_________________________________________________________________\n",
      "reshape (Reshape)            (None, None, 1280)        0         \n",
      "_________________________________________________________________\n",
      "bidirectional_1 (Bidirection (None, None, 1600)        9993600   \n",
      "_________________________________________________________________\n",
      "dropout_3 (Dropout)          (None, None, 1600)        0         \n",
      "_________________________________________________________________\n",
      "bidirectional_2 (Bidirection (None, None, 1600)        11529600  \n",
      "_________________________________________________________________\n",
      "dropout_4 (Dropout)          (None, None, 1600)        0         \n",
      "_________________________________________________________________\n",
      "bidirectional_3 (Bidirection (None, None, 1600)        11529600  \n",
      "_________________________________________________________________\n",
      "dropout_5 (Dropout)          (None, None, 1600)        0         \n",
      "_________________________________________________________________\n",
      "bidirectional_4 (Bidirection (None, None, 1600)        11529600  \n",
      "_________________________________________________________________\n",
      "dropout_6 (Dropout)          (None, None, 1600)        0         \n",
      "_________________________________________________________________\n",
      "bidirectional_5 (Bidirection (None, None, 1600)        11529600  \n",
      "_________________________________________________________________\n",
      "dense_1 (TimeDistributed)    (None, None, 1600)        2561600   \n",
      "_________________________________________________________________\n",
      "dense_1_relu (ReLU)          (None, None, 1600)        0         \n",
      "_________________________________________________________________\n",
      "dropout_7 (Dropout)          (None, None, 1600)        0         \n",
      "_________________________________________________________________\n",
      "dense_2 (TimeDistributed)    (None, None, 29)          46429     \n",
      "=================================================================\n",
      "Total params: 58,971,261\n",
      "Trainable params: 58,971,133\n",
      "Non-trainable params: 128\n",
      "_________________________________________________________________\n"
     ]
    }
   ],
   "source": [
    "import automatic_speech_recognition as asr\n",
    "\n",
    "pipeline = asr.load('deepspeech2', lang='en')\n",
    "pipeline.model.summary()"
   ]
  },
  {
   "cell_type": "code",
   "execution_count": 35,
   "id": "1e41bcdf",
   "metadata": {
    "execution": {
     "iopub.execute_input": "2021-09-10T11:48:28.451685Z",
     "iopub.status.busy": "2021-09-10T11:48:28.451018Z",
     "iopub.status.idle": "2021-09-10T11:49:38.199550Z",
     "shell.execute_reply": "2021-09-10T11:49:38.198959Z",
     "shell.execute_reply.started": "2021-09-09T22:09:29.840643Z"
    },
    "papermill": {
     "duration": 70.281966,
     "end_time": "2021-09-10T11:49:38.199705",
     "exception": false,
     "start_time": "2021-09-10T11:48:27.917739",
     "status": "completed"
    },
    "tags": []
   },
   "outputs": [
    {
     "data": {
      "application/vnd.jupyter.widget-view+json": {
       "model_id": "d3a9dcd934d044228768a4f378022f4d",
       "version_major": 2,
       "version_minor": 0
      },
      "text/plain": [
       "  0%|          | 0/25 [00:00<?, ?it/s]"
      ]
     },
     "metadata": {},
     "output_type": "display_data"
    }
   ],
   "source": [
    "from tqdm.auto import tqdm\n",
    "\n",
    "val_filenames = tf.io.gfile.glob(VAL_DATASET_PATH + '/*/*')\n",
    "deepspeech_pred = []\n",
    "true_labels = []\n",
    "\n",
    "for file in tqdm(val_filenames[:25]):\n",
    "    deepspeech_pred.append(pipeline.predict([asr.utils.read_audio(file)]))\n",
    "    true_labels.append(get_label(file))"
   ]
  },
  {
   "cell_type": "code",
   "execution_count": 36,
   "id": "fa49e2c7",
   "metadata": {
    "execution": {
     "iopub.execute_input": "2021-09-10T11:49:39.290038Z",
     "iopub.status.busy": "2021-09-10T11:49:39.289249Z",
     "iopub.status.idle": "2021-09-10T11:49:39.292651Z",
     "shell.execute_reply": "2021-09-10T11:49:39.293040Z",
     "shell.execute_reply.started": "2021-09-09T22:10:39.233604Z"
    },
    "papermill": {
     "duration": 0.54535,
     "end_time": "2021-09-10T11:49:39.293174",
     "exception": false,
     "start_time": "2021-09-10T11:49:38.747824",
     "status": "completed"
    },
    "tags": []
   },
   "outputs": [
    {
     "data": {
      "text/plain": [
       "array(['', 'right', 'right', 'crit', 'right', 'rate', 'right', 'right',\n",
       "       'right', 'right', 'what', 'right', 'ritinon', 'gray', 'whom',\n",
       "       'mi too', 'eright', 'right', 'riht', 'words', 'right', 'wright',\n",
       "       'right', 'right', 'ra'], dtype='<U7')"
      ]
     },
     "execution_count": 36,
     "metadata": {},
     "output_type": "execute_result"
    }
   ],
   "source": [
    "np.array(deepspeech_pred).ravel()"
   ]
  },
  {
   "cell_type": "code",
   "execution_count": 37,
   "id": "6e744270",
   "metadata": {
    "execution": {
     "iopub.execute_input": "2021-09-10T11:49:40.374384Z",
     "iopub.status.busy": "2021-09-10T11:49:40.373550Z",
     "iopub.status.idle": "2021-09-10T11:49:40.376926Z",
     "shell.execute_reply": "2021-09-10T11:49:40.377337Z"
    },
    "papermill": {
     "duration": 0.546878,
     "end_time": "2021-09-10T11:49:40.377526",
     "exception": false,
     "start_time": "2021-09-10T11:49:39.830648",
     "status": "completed"
    },
    "tags": []
   },
   "outputs": [
    {
     "data": {
      "text/plain": [
       "array([<tf.Tensor: shape=(), dtype=string, numpy=b'right'>,\n",
       "       <tf.Tensor: shape=(), dtype=string, numpy=b'right'>,\n",
       "       <tf.Tensor: shape=(), dtype=string, numpy=b'right'>,\n",
       "       <tf.Tensor: shape=(), dtype=string, numpy=b'right'>,\n",
       "       <tf.Tensor: shape=(), dtype=string, numpy=b'right'>,\n",
       "       <tf.Tensor: shape=(), dtype=string, numpy=b'right'>,\n",
       "       <tf.Tensor: shape=(), dtype=string, numpy=b'right'>,\n",
       "       <tf.Tensor: shape=(), dtype=string, numpy=b'right'>,\n",
       "       <tf.Tensor: shape=(), dtype=string, numpy=b'right'>,\n",
       "       <tf.Tensor: shape=(), dtype=string, numpy=b'right'>,\n",
       "       <tf.Tensor: shape=(), dtype=string, numpy=b'right'>,\n",
       "       <tf.Tensor: shape=(), dtype=string, numpy=b'right'>,\n",
       "       <tf.Tensor: shape=(), dtype=string, numpy=b'right'>,\n",
       "       <tf.Tensor: shape=(), dtype=string, numpy=b'right'>,\n",
       "       <tf.Tensor: shape=(), dtype=string, numpy=b'right'>,\n",
       "       <tf.Tensor: shape=(), dtype=string, numpy=b'right'>,\n",
       "       <tf.Tensor: shape=(), dtype=string, numpy=b'right'>,\n",
       "       <tf.Tensor: shape=(), dtype=string, numpy=b'right'>,\n",
       "       <tf.Tensor: shape=(), dtype=string, numpy=b'right'>,\n",
       "       <tf.Tensor: shape=(), dtype=string, numpy=b'right'>,\n",
       "       <tf.Tensor: shape=(), dtype=string, numpy=b'right'>,\n",
       "       <tf.Tensor: shape=(), dtype=string, numpy=b'right'>,\n",
       "       <tf.Tensor: shape=(), dtype=string, numpy=b'right'>,\n",
       "       <tf.Tensor: shape=(), dtype=string, numpy=b'right'>,\n",
       "       <tf.Tensor: shape=(), dtype=string, numpy=b'right'>], dtype=object)"
      ]
     },
     "execution_count": 37,
     "metadata": {},
     "output_type": "execute_result"
    }
   ],
   "source": [
    "np.array(true_labels).ravel()"
   ]
  },
  {
   "cell_type": "code",
   "execution_count": 38,
   "id": "8ad5a935",
   "metadata": {
    "execution": {
     "iopub.execute_input": "2021-09-10T11:49:41.453896Z",
     "iopub.status.busy": "2021-09-10T11:49:41.453008Z",
     "iopub.status.idle": "2021-09-10T11:49:42.231720Z",
     "shell.execute_reply": "2021-09-10T11:49:42.232171Z",
     "shell.execute_reply.started": "2021-09-09T22:10:39.244406Z"
    },
    "papermill": {
     "duration": 1.319659,
     "end_time": "2021-09-10T11:49:42.232357",
     "exception": false,
     "start_time": "2021-09-10T11:49:40.912698",
     "status": "completed"
    },
    "tags": []
   },
   "outputs": [],
   "source": [
    "!rm -rf automatic_speech_recognition"
   ]
  },
  {
   "cell_type": "markdown",
   "id": "4ca6c490",
   "metadata": {
    "execution": {
     "iopub.execute_input": "2021-09-09T14:34:23.265586Z",
     "iopub.status.busy": "2021-09-09T14:34:23.26533Z",
     "iopub.status.idle": "2021-09-09T14:34:23.272322Z",
     "shell.execute_reply": "2021-09-09T14:34:23.27157Z",
     "shell.execute_reply.started": "2021-09-09T14:34:23.265563Z"
    },
    "papermill": {
     "duration": 0.516335,
     "end_time": "2021-09-10T11:49:43.270054",
     "exception": false,
     "start_time": "2021-09-10T11:49:42.753719",
     "status": "completed"
    },
    "tags": []
   },
   "source": [
    "It seems to work good, especially if we will finetune it, and maybe, use some heuristic based on Levenshtein distance to correct outputs.\n",
    "\n",
    "But this is really big and slow even on GPU, so it's not the case for task we are trying to solve."
   ]
  },
  {
   "cell_type": "markdown",
   "id": "26141173",
   "metadata": {
    "papermill": {
     "duration": 0.520247,
     "end_time": "2021-09-10T11:49:44.309425",
     "exception": false,
     "start_time": "2021-09-10T11:49:43.789178",
     "status": "completed"
    },
    "tags": []
   },
   "source": [
    "## Conclusions\n",
    "\n",
    "I tried three methods for this task, but there is still a big room for improvement.\n",
    "\n",
    "**Nearest Neighbors**:\n",
    "- Pros:\n",
    "   - Fast & simple\n",
    "   - Understandable mechanism - no pitfalls\n",
    "- Cons:\n",
    "    - Training set should be stored on a production platform\n",
    "    - Quite inaccurate\n",
    "- Ways for improvement:\n",
    "    - kNN shows that distance-based methods can have a chance, so maybe some clustering should be performed, and applied for the test set as \"k nearest centroids\"\n",
    "    - Create additional features. There is a variety of decompositions in signal processing, also they have a lot of parameters, like window type and window size. Just need to find appropriate.\n",
    "        \n",
    "**CNN**:\n",
    "- Pros:\n",
    "    - the best model for now\n",
    "    - still simple enough\n",
    "- Cons:\n",
    "    - some systematic misclassification\n",
    "- Ways for improvement:\n",
    "    - Additional data. I think these one-word commands can be found in other datasets.\n",
    "    - Data augmentation. We can apply various sound effects to expand our dataset: pitch, reverb, compression, distortion, changing a loudness, adding a background noise...\n",
    "    - Dealing with \"unknown\" label. The actual detection of the unknown is not even close to perfect. I think that there must another way to implement detection of new words, maybe with clustering of the last convolutional layer output.\n",
    "        \n",
    "**Pretrained models**:\n",
    "- Pros:\n",
    "    - I think they can give a pretty good prediction if we spent some time on pipeline organization\n",
    "- Cons:\n",
    "    - Heavy. Spend more than 1.5 sec for a single prediction on GPU\n",
    "    - Output requires additional processing\n",
    "- Ways for improvement:\n",
    "    - Perform research of existing speech recognition models. Find the best for our task\n",
    "    - Creating algorithm for labels fixing\n",
    "    - Finetuning\n",
    "        \n",
    "The next step should be rewriting the model pure TensorFlow (but unfortunately, I have no time left for this) and deploying the best model to \"production\" (test on a competition) "
   ]
  },
  {
   "cell_type": "code",
   "execution_count": 39,
   "id": "f48514df",
   "metadata": {
    "execution": {
     "iopub.execute_input": "2021-09-10T11:49:45.416108Z",
     "iopub.status.busy": "2021-09-10T11:49:45.377306Z",
     "iopub.status.idle": "2021-09-10T12:57:28.376807Z",
     "shell.execute_reply": "2021-09-10T12:57:28.376276Z",
     "shell.execute_reply.started": "2021-09-10T10:07:55.847377Z"
    },
    "papermill": {
     "duration": 4063.549167,
     "end_time": "2021-09-10T12:57:28.377043",
     "exception": false,
     "start_time": "2021-09-10T11:49:44.827876",
     "status": "completed"
    },
    "tags": []
   },
   "outputs": [],
   "source": [
    "%%capture\n",
    "!cd /kaggle/temp && 7z x /kaggle/input/tensorflow-speech-recognition-challenge/test.7z"
   ]
  },
  {
   "cell_type": "code",
   "execution_count": 40,
   "id": "1c928194",
   "metadata": {
    "execution": {
     "iopub.execute_input": "2021-09-10T12:57:29.476547Z",
     "iopub.status.busy": "2021-09-10T12:57:29.475759Z",
     "iopub.status.idle": "2021-09-10T13:03:43.431576Z",
     "shell.execute_reply": "2021-09-10T13:03:43.430571Z",
     "shell.execute_reply.started": "2021-09-10T11:27:11.051099Z"
    },
    "papermill": {
     "duration": 374.499355,
     "end_time": "2021-09-10T13:03:43.431735",
     "exception": false,
     "start_time": "2021-09-10T12:57:28.932380",
     "status": "completed"
    },
    "tags": []
   },
   "outputs": [],
   "source": [
    "TEST_PATH = '/kaggle/temp/test/audio/*'\n",
    "test_ds = load_and_preprocess_dataset(TEST_PATH)\n",
    "test_ds = test_ds.prefetch(AUTOTUNE).batch(64)\n",
    "fnames = tf.io.gfile.glob(TEST_PATH)\n",
    "\n",
    "test_pred = model.predict(test_ds)\n",
    "pred_labels = np.argmax(test_pred, axis=1).astype('int')\n",
    "pred_labels = LABELS[pred_labels]\n",
    "\n",
    "subm = pd.DataFrame({'fname': fnames, 'label': pred_labels})\n",
    "subm.to_csv('submission.csv', index=False)"
   ]
  }
 ],
 "metadata": {
  "kernelspec": {
   "display_name": "Python 3",
   "language": "python",
   "name": "python3"
  },
  "language_info": {
   "codemirror_mode": {
    "name": "ipython",
    "version": 3
   },
   "file_extension": ".py",
   "mimetype": "text/x-python",
   "name": "python",
   "nbconvert_exporter": "python",
   "pygments_lexer": "ipython3",
   "version": "3.7.10"
  },
  "papermill": {
   "default_parameters": {},
   "duration": 5009.106778,
   "end_time": "2021-09-10T13:03:46.526055",
   "environment_variables": {},
   "exception": null,
   "input_path": "__notebook__.ipynb",
   "output_path": "__notebook__.ipynb",
   "parameters": {},
   "start_time": "2021-09-10T11:40:17.419277",
   "version": "2.3.3"
  },
  "widgets": {
   "application/vnd.jupyter.widget-state+json": {
    "state": {
     "0559498549d04e8a8fcd88dd61abddc6": {
      "model_module": "@jupyter-widgets/base",
      "model_module_version": "1.2.0",
      "model_name": "LayoutModel",
      "state": {
       "_model_module": "@jupyter-widgets/base",
       "_model_module_version": "1.2.0",
       "_model_name": "LayoutModel",
       "_view_count": null,
       "_view_module": "@jupyter-widgets/base",
       "_view_module_version": "1.2.0",
       "_view_name": "LayoutView",
       "align_content": null,
       "align_items": null,
       "align_self": null,
       "border": null,
       "bottom": null,
       "display": null,
       "flex": null,
       "flex_flow": null,
       "grid_area": null,
       "grid_auto_columns": null,
       "grid_auto_flow": null,
       "grid_auto_rows": null,
       "grid_column": null,
       "grid_gap": null,
       "grid_row": null,
       "grid_template_areas": null,
       "grid_template_columns": null,
       "grid_template_rows": null,
       "height": null,
       "justify_content": null,
       "justify_items": null,
       "left": null,
       "margin": null,
       "max_height": null,
       "max_width": null,
       "min_height": null,
       "min_width": null,
       "object_fit": null,
       "object_position": null,
       "order": null,
       "overflow": null,
       "overflow_x": null,
       "overflow_y": null,
       "padding": null,
       "right": null,
       "top": null,
       "visibility": null,
       "width": null
      }
     },
     "0571ee82c7954be8b07a0865a8d8ce74": {
      "model_module": "@jupyter-widgets/controls",
      "model_module_version": "1.5.0",
      "model_name": "HTMLModel",
      "state": {
       "_dom_classes": [],
       "_model_module": "@jupyter-widgets/controls",
       "_model_module_version": "1.5.0",
       "_model_name": "HTMLModel",
       "_view_count": null,
       "_view_module": "@jupyter-widgets/controls",
       "_view_module_version": "1.5.0",
       "_view_name": "HTMLView",
       "description": "",
       "description_tooltip": null,
       "layout": "IPY_MODEL_f1cbfd4ab2be4420bcde00f1512848b7",
       "placeholder": "​",
       "style": "IPY_MODEL_b6d0a4a471574b4598d6adad036e6f52",
       "value": " 25/25 [01:09&lt;00:00,  2.75s/it]"
      }
     },
     "4c6966c182e445d284c39d07c9c9cbf2": {
      "model_module": "@jupyter-widgets/controls",
      "model_module_version": "1.5.0",
      "model_name": "DescriptionStyleModel",
      "state": {
       "_model_module": "@jupyter-widgets/controls",
       "_model_module_version": "1.5.0",
       "_model_name": "DescriptionStyleModel",
       "_view_count": null,
       "_view_module": "@jupyter-widgets/base",
       "_view_module_version": "1.2.0",
       "_view_name": "StyleView",
       "description_width": ""
      }
     },
     "88ab0728622e439e976e588e4578e9ac": {
      "model_module": "@jupyter-widgets/controls",
      "model_module_version": "1.5.0",
      "model_name": "FloatProgressModel",
      "state": {
       "_dom_classes": [],
       "_model_module": "@jupyter-widgets/controls",
       "_model_module_version": "1.5.0",
       "_model_name": "FloatProgressModel",
       "_view_count": null,
       "_view_module": "@jupyter-widgets/controls",
       "_view_module_version": "1.5.0",
       "_view_name": "ProgressView",
       "bar_style": "success",
       "description": "",
       "description_tooltip": null,
       "layout": "IPY_MODEL_0559498549d04e8a8fcd88dd61abddc6",
       "max": 25.0,
       "min": 0.0,
       "orientation": "horizontal",
       "style": "IPY_MODEL_8bee2f1686bb4d0bbb85c08f5a51e6e4",
       "value": 25.0
      }
     },
     "8bee2f1686bb4d0bbb85c08f5a51e6e4": {
      "model_module": "@jupyter-widgets/controls",
      "model_module_version": "1.5.0",
      "model_name": "ProgressStyleModel",
      "state": {
       "_model_module": "@jupyter-widgets/controls",
       "_model_module_version": "1.5.0",
       "_model_name": "ProgressStyleModel",
       "_view_count": null,
       "_view_module": "@jupyter-widgets/base",
       "_view_module_version": "1.2.0",
       "_view_name": "StyleView",
       "bar_color": null,
       "description_width": ""
      }
     },
     "a2e39b3b8ab9490d8f54f38c19db30c2": {
      "model_module": "@jupyter-widgets/base",
      "model_module_version": "1.2.0",
      "model_name": "LayoutModel",
      "state": {
       "_model_module": "@jupyter-widgets/base",
       "_model_module_version": "1.2.0",
       "_model_name": "LayoutModel",
       "_view_count": null,
       "_view_module": "@jupyter-widgets/base",
       "_view_module_version": "1.2.0",
       "_view_name": "LayoutView",
       "align_content": null,
       "align_items": null,
       "align_self": null,
       "border": null,
       "bottom": null,
       "display": null,
       "flex": null,
       "flex_flow": null,
       "grid_area": null,
       "grid_auto_columns": null,
       "grid_auto_flow": null,
       "grid_auto_rows": null,
       "grid_column": null,
       "grid_gap": null,
       "grid_row": null,
       "grid_template_areas": null,
       "grid_template_columns": null,
       "grid_template_rows": null,
       "height": null,
       "justify_content": null,
       "justify_items": null,
       "left": null,
       "margin": null,
       "max_height": null,
       "max_width": null,
       "min_height": null,
       "min_width": null,
       "object_fit": null,
       "object_position": null,
       "order": null,
       "overflow": null,
       "overflow_x": null,
       "overflow_y": null,
       "padding": null,
       "right": null,
       "top": null,
       "visibility": null,
       "width": null
      }
     },
     "b6d0a4a471574b4598d6adad036e6f52": {
      "model_module": "@jupyter-widgets/controls",
      "model_module_version": "1.5.0",
      "model_name": "DescriptionStyleModel",
      "state": {
       "_model_module": "@jupyter-widgets/controls",
       "_model_module_version": "1.5.0",
       "_model_name": "DescriptionStyleModel",
       "_view_count": null,
       "_view_module": "@jupyter-widgets/base",
       "_view_module_version": "1.2.0",
       "_view_name": "StyleView",
       "description_width": ""
      }
     },
     "d3a9dcd934d044228768a4f378022f4d": {
      "model_module": "@jupyter-widgets/controls",
      "model_module_version": "1.5.0",
      "model_name": "HBoxModel",
      "state": {
       "_dom_classes": [],
       "_model_module": "@jupyter-widgets/controls",
       "_model_module_version": "1.5.0",
       "_model_name": "HBoxModel",
       "_view_count": null,
       "_view_module": "@jupyter-widgets/controls",
       "_view_module_version": "1.5.0",
       "_view_name": "HBoxView",
       "box_style": "",
       "children": [
        "IPY_MODEL_e665b4e393694be891b68d1d3f7507df",
        "IPY_MODEL_88ab0728622e439e976e588e4578e9ac",
        "IPY_MODEL_0571ee82c7954be8b07a0865a8d8ce74"
       ],
       "layout": "IPY_MODEL_a2e39b3b8ab9490d8f54f38c19db30c2"
      }
     },
     "e665b4e393694be891b68d1d3f7507df": {
      "model_module": "@jupyter-widgets/controls",
      "model_module_version": "1.5.0",
      "model_name": "HTMLModel",
      "state": {
       "_dom_classes": [],
       "_model_module": "@jupyter-widgets/controls",
       "_model_module_version": "1.5.0",
       "_model_name": "HTMLModel",
       "_view_count": null,
       "_view_module": "@jupyter-widgets/controls",
       "_view_module_version": "1.5.0",
       "_view_name": "HTMLView",
       "description": "",
       "description_tooltip": null,
       "layout": "IPY_MODEL_e87aa83f55494b7f98f8e0dddf6c5210",
       "placeholder": "​",
       "style": "IPY_MODEL_4c6966c182e445d284c39d07c9c9cbf2",
       "value": "100%"
      }
     },
     "e87aa83f55494b7f98f8e0dddf6c5210": {
      "model_module": "@jupyter-widgets/base",
      "model_module_version": "1.2.0",
      "model_name": "LayoutModel",
      "state": {
       "_model_module": "@jupyter-widgets/base",
       "_model_module_version": "1.2.0",
       "_model_name": "LayoutModel",
       "_view_count": null,
       "_view_module": "@jupyter-widgets/base",
       "_view_module_version": "1.2.0",
       "_view_name": "LayoutView",
       "align_content": null,
       "align_items": null,
       "align_self": null,
       "border": null,
       "bottom": null,
       "display": null,
       "flex": null,
       "flex_flow": null,
       "grid_area": null,
       "grid_auto_columns": null,
       "grid_auto_flow": null,
       "grid_auto_rows": null,
       "grid_column": null,
       "grid_gap": null,
       "grid_row": null,
       "grid_template_areas": null,
       "grid_template_columns": null,
       "grid_template_rows": null,
       "height": null,
       "justify_content": null,
       "justify_items": null,
       "left": null,
       "margin": null,
       "max_height": null,
       "max_width": null,
       "min_height": null,
       "min_width": null,
       "object_fit": null,
       "object_position": null,
       "order": null,
       "overflow": null,
       "overflow_x": null,
       "overflow_y": null,
       "padding": null,
       "right": null,
       "top": null,
       "visibility": null,
       "width": null
      }
     },
     "f1cbfd4ab2be4420bcde00f1512848b7": {
      "model_module": "@jupyter-widgets/base",
      "model_module_version": "1.2.0",
      "model_name": "LayoutModel",
      "state": {
       "_model_module": "@jupyter-widgets/base",
       "_model_module_version": "1.2.0",
       "_model_name": "LayoutModel",
       "_view_count": null,
       "_view_module": "@jupyter-widgets/base",
       "_view_module_version": "1.2.0",
       "_view_name": "LayoutView",
       "align_content": null,
       "align_items": null,
       "align_self": null,
       "border": null,
       "bottom": null,
       "display": null,
       "flex": null,
       "flex_flow": null,
       "grid_area": null,
       "grid_auto_columns": null,
       "grid_auto_flow": null,
       "grid_auto_rows": null,
       "grid_column": null,
       "grid_gap": null,
       "grid_row": null,
       "grid_template_areas": null,
       "grid_template_columns": null,
       "grid_template_rows": null,
       "height": null,
       "justify_content": null,
       "justify_items": null,
       "left": null,
       "margin": null,
       "max_height": null,
       "max_width": null,
       "min_height": null,
       "min_width": null,
       "object_fit": null,
       "object_position": null,
       "order": null,
       "overflow": null,
       "overflow_x": null,
       "overflow_y": null,
       "padding": null,
       "right": null,
       "top": null,
       "visibility": null,
       "width": null
      }
     }
    },
    "version_major": 2,
    "version_minor": 0
   }
  }
 },
 "nbformat": 4,
 "nbformat_minor": 5
}
